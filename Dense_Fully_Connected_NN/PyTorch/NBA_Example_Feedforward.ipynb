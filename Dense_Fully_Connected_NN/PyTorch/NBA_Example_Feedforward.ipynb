{
  "cells": [
    {
      "cell_type": "markdown",
      "source": [
        "# ENGG 192 \n",
        "\n",
        "-----\n",
        "\n",
        "### Dartmouth College - January 20, 2019\n",
        "### Spencer Bertsch\n",
        "This program uses PyTorch to create a dense, feedforward neural networks designed to predict the results of NBA games betoween 2014 and 2018.  \n",
        "\n",
        "The next Assignment (1b) will entail a notebook which studies several regularization techniques such as hyperparameter optimization techniques, techniques to limit the effects of overfitting such as early stopping and dropout layers, and will discuss other methods and theiries currently used to improve the performance of funtional, applied deep learning models. \n",
        "\n",
        "The data source for this project can be found [here](https://www.kaggle.com/ionaskel/nba-games-stats-from-2014-to-2018#nba.games.stats.csv). \n",
        "\n"
      ],
      "metadata": {
        "collapsed": false,
        "outputHidden": false,
        "inputHidden": false
      }
    },
    {
      "cell_type": "code",
      "source": [
        "# Deep learning \n",
        "import numpy as np\n",
        "import torch\n",
        "import torch.nn as nn\n",
        "from torch.autograd import Variable #<-- Variable can be thought of as a Torch matrix\n",
        "import torch.nn.functional as F\n",
        "import torch.optim as optim\n",
        "import pandas as pd\n",
        "import time\n",
        "import matplotlib.pyplot as plt\n",
        "from matplotlib.colors import ListedColormap\n",
        "\n",
        "#Data cleaning and preprocessing\n",
        "from sklearn import preprocessing\n",
        "from sklearn.preprocessing import LabelEncoder\n",
        "from sklearn.preprocessing import LabelBinarizer\n",
        "from sklearn.model_selection import train_test_split\n",
        "\n",
        "#Model evaluation\n",
        "from sklearn.metrics import confusion_matrix\n",
        "from sklearn.metrics import accuracy_score\n",
        "from sklearn import metrics\n",
        "from sklearn.metrics import f1_score\n"
      ],
      "outputs": [],
      "execution_count": 27,
      "metadata": {}
    },
    {
      "cell_type": "markdown",
      "source": [
        "## Load the Dataset \n",
        "\nOur dataset exists as a .csv file downloaded form Kaggle. In a more developed project we could develop the way that data is loaded into this notebook, but for now we can simply use a handy feature of Pandas called 'read_csv' to import a .csv to a pandas dataframe. "
      ],
      "metadata": {
        "collapsed": false,
        "outputHidden": false,
        "inputHidden": false
      }
    },
    {
      "cell_type": "code",
      "source": [
        "# Import the dataset - load .csv file\n",
        "path = '/Users/spencerbertsch/Desktop/ENGG 192/Dense_NNs/Data/nba_raw_data.csv'\n",
        "#create a dataframe from the NBA data stored in the .csv file\n",
        "NBA_data_raw = pd.read_csv(path)\n",
        "\n",
        "print(\"Shapw of raw dataset:\", (NBA_data_raw.shape))\n",
        "print(\"So we can see that we have 40 features and one label vector\")\n",
        "print(\"We can also see that we have 9,840 rows\")\n",
        "print(\" \")\n",
        "print(\"We can also preview our dataset by observing the top five rows\")\n",
        "NBA_data_raw.head(5)"
      ],
      "outputs": [
        {
          "output_type": "stream",
          "name": "stdout",
          "text": [
            "Shapw of raw dataset: (9840, 41)\n",
            "So we can see that we have 40 features and one label vector\n",
            "We can also see that we have 9,840 rows\n",
            " \n",
            "We can also preview our dataset by observing the top five rows\n"
          ]
        },
        {
          "output_type": "execute_result",
          "execution_count": 28,
          "data": {
            "text/plain": [
              "   Unnamed: 0 Team  Game      Date  Home Opponent WINorLOSS  TeamPoints  \\\n",
              "0           1  ATL     1  10/29/14  Away      TOR         L         102   \n",
              "1           2  ATL     2   11/1/14  Home      IND         W         102   \n",
              "2           3  ATL     3   11/5/14  Away      SAS         L          92   \n",
              "3           4  ATL     4   11/7/14  Away      CHO         L         119   \n",
              "4           5  ATL     5   11/8/14  Home      NYK         W         103   \n",
              "\n",
              "   OpponentPoints  FieldGoals       ...        Opp.FreeThrows  \\\n",
              "0             109          40       ...                    27   \n",
              "1              92          35       ...                    18   \n",
              "2              94          38       ...                    27   \n",
              "3             122          43       ...                    20   \n",
              "4              96          33       ...                     8   \n",
              "\n",
              "   Opp.FreeThrowsAttempted  Opp.FreeThrows.  Opp.OffRebounds  \\\n",
              "0                       33            0.818               16   \n",
              "1                       21            0.857               11   \n",
              "2                       38            0.711               11   \n",
              "3                       27            0.741               11   \n",
              "4                       11            0.727               13   \n",
              "\n",
              "   Opp.TotalRebounds  Opp.Assists  Opp.Steals  Opp.Blocks  Opp.Turnovers  \\\n",
              "0                 48           26          13           9              9   \n",
              "1                 44           25           5           5             18   \n",
              "2                 50           25           7           9             19   \n",
              "3                 51           31           6           7             19   \n",
              "4                 44           26           2           6             15   \n",
              "\n",
              "   Opp.TotalFouls  \n",
              "0              22  \n",
              "1              26  \n",
              "2              15  \n",
              "3              30  \n",
              "4              29  \n",
              "\n[5 rows x 41 columns]"
            ],
            "text/html": [
              "<div>\n",
              "<style scoped>\n",
              "    .dataframe tbody tr th:only-of-type {\n",
              "        vertical-align: middle;\n",
              "    }\n",
              "\n",
              "    .dataframe tbody tr th {\n",
              "        vertical-align: top;\n",
              "    }\n",
              "\n",
              "    .dataframe thead th {\n",
              "        text-align: right;\n",
              "    }\n",
              "</style>\n",
              "<table border=\"1\" class=\"dataframe\">\n",
              "  <thead>\n",
              "    <tr style=\"text-align: right;\">\n",
              "      <th></th>\n",
              "      <th>Unnamed: 0</th>\n",
              "      <th>Team</th>\n",
              "      <th>Game</th>\n",
              "      <th>Date</th>\n",
              "      <th>Home</th>\n",
              "      <th>Opponent</th>\n",
              "      <th>WINorLOSS</th>\n",
              "      <th>TeamPoints</th>\n",
              "      <th>OpponentPoints</th>\n",
              "      <th>FieldGoals</th>\n",
              "      <th>...</th>\n",
              "      <th>Opp.FreeThrows</th>\n",
              "      <th>Opp.FreeThrowsAttempted</th>\n",
              "      <th>Opp.FreeThrows.</th>\n",
              "      <th>Opp.OffRebounds</th>\n",
              "      <th>Opp.TotalRebounds</th>\n",
              "      <th>Opp.Assists</th>\n",
              "      <th>Opp.Steals</th>\n",
              "      <th>Opp.Blocks</th>\n",
              "      <th>Opp.Turnovers</th>\n",
              "      <th>Opp.TotalFouls</th>\n",
              "    </tr>\n",
              "  </thead>\n",
              "  <tbody>\n",
              "    <tr>\n",
              "      <th>0</th>\n",
              "      <td>1</td>\n",
              "      <td>ATL</td>\n",
              "      <td>1</td>\n",
              "      <td>10/29/14</td>\n",
              "      <td>Away</td>\n",
              "      <td>TOR</td>\n",
              "      <td>L</td>\n",
              "      <td>102</td>\n",
              "      <td>109</td>\n",
              "      <td>40</td>\n",
              "      <td>...</td>\n",
              "      <td>27</td>\n",
              "      <td>33</td>\n",
              "      <td>0.818</td>\n",
              "      <td>16</td>\n",
              "      <td>48</td>\n",
              "      <td>26</td>\n",
              "      <td>13</td>\n",
              "      <td>9</td>\n",
              "      <td>9</td>\n",
              "      <td>22</td>\n",
              "    </tr>\n",
              "    <tr>\n",
              "      <th>1</th>\n",
              "      <td>2</td>\n",
              "      <td>ATL</td>\n",
              "      <td>2</td>\n",
              "      <td>11/1/14</td>\n",
              "      <td>Home</td>\n",
              "      <td>IND</td>\n",
              "      <td>W</td>\n",
              "      <td>102</td>\n",
              "      <td>92</td>\n",
              "      <td>35</td>\n",
              "      <td>...</td>\n",
              "      <td>18</td>\n",
              "      <td>21</td>\n",
              "      <td>0.857</td>\n",
              "      <td>11</td>\n",
              "      <td>44</td>\n",
              "      <td>25</td>\n",
              "      <td>5</td>\n",
              "      <td>5</td>\n",
              "      <td>18</td>\n",
              "      <td>26</td>\n",
              "    </tr>\n",
              "    <tr>\n",
              "      <th>2</th>\n",
              "      <td>3</td>\n",
              "      <td>ATL</td>\n",
              "      <td>3</td>\n",
              "      <td>11/5/14</td>\n",
              "      <td>Away</td>\n",
              "      <td>SAS</td>\n",
              "      <td>L</td>\n",
              "      <td>92</td>\n",
              "      <td>94</td>\n",
              "      <td>38</td>\n",
              "      <td>...</td>\n",
              "      <td>27</td>\n",
              "      <td>38</td>\n",
              "      <td>0.711</td>\n",
              "      <td>11</td>\n",
              "      <td>50</td>\n",
              "      <td>25</td>\n",
              "      <td>7</td>\n",
              "      <td>9</td>\n",
              "      <td>19</td>\n",
              "      <td>15</td>\n",
              "    </tr>\n",
              "    <tr>\n",
              "      <th>3</th>\n",
              "      <td>4</td>\n",
              "      <td>ATL</td>\n",
              "      <td>4</td>\n",
              "      <td>11/7/14</td>\n",
              "      <td>Away</td>\n",
              "      <td>CHO</td>\n",
              "      <td>L</td>\n",
              "      <td>119</td>\n",
              "      <td>122</td>\n",
              "      <td>43</td>\n",
              "      <td>...</td>\n",
              "      <td>20</td>\n",
              "      <td>27</td>\n",
              "      <td>0.741</td>\n",
              "      <td>11</td>\n",
              "      <td>51</td>\n",
              "      <td>31</td>\n",
              "      <td>6</td>\n",
              "      <td>7</td>\n",
              "      <td>19</td>\n",
              "      <td>30</td>\n",
              "    </tr>\n",
              "    <tr>\n",
              "      <th>4</th>\n",
              "      <td>5</td>\n",
              "      <td>ATL</td>\n",
              "      <td>5</td>\n",
              "      <td>11/8/14</td>\n",
              "      <td>Home</td>\n",
              "      <td>NYK</td>\n",
              "      <td>W</td>\n",
              "      <td>103</td>\n",
              "      <td>96</td>\n",
              "      <td>33</td>\n",
              "      <td>...</td>\n",
              "      <td>8</td>\n",
              "      <td>11</td>\n",
              "      <td>0.727</td>\n",
              "      <td>13</td>\n",
              "      <td>44</td>\n",
              "      <td>26</td>\n",
              "      <td>2</td>\n",
              "      <td>6</td>\n",
              "      <td>15</td>\n",
              "      <td>29</td>\n",
              "    </tr>\n",
              "  </tbody>\n",
              "</table>\n",
              "<p>5 rows × 41 columns</p>\n",
              "</div>"
            ]
          },
          "metadata": {}
        }
      ],
      "execution_count": 28,
      "metadata": {
        "collapsed": false,
        "outputHidden": false,
        "inputHidden": false
      }
    },
    {
      "cell_type": "code",
      "source": [
        "print(\" \")\n",
        "print(\"We can then make a list from the column headers and observe all of the information that our dataset has aggregated for each game\")\n",
        "cols = list(NBA_data_raw.columns.values) #Make a list of all of the columns in the df\n",
        "cols"
      ],
      "outputs": [
        {
          "output_type": "stream",
          "name": "stdout",
          "text": [
            " \n",
            "We can then make a list from the column headers and observe all of the information that our dataset has aggregated for each game\n"
          ]
        },
        {
          "output_type": "execute_result",
          "execution_count": 29,
          "data": {
            "text/plain": [
              "['Unnamed: 0',\n",
              " 'Team',\n",
              " 'Game',\n",
              " 'Date',\n",
              " 'Home',\n",
              " 'Opponent',\n",
              " 'WINorLOSS',\n",
              " 'TeamPoints',\n",
              " 'OpponentPoints',\n",
              " 'FieldGoals',\n",
              " 'FieldGoalsAttempted',\n",
              " 'FieldGoals.',\n",
              " 'X3PointShots',\n",
              " 'X3PointShotsAttempted',\n",
              " 'X3PointShots.',\n",
              " 'FreeThrows',\n",
              " 'FreeThrowsAttempted',\n",
              " 'FreeThrows.',\n",
              " 'OffRebounds',\n",
              " 'TotalRebounds',\n",
              " 'Assists',\n",
              " 'Steals',\n",
              " 'Blocks',\n",
              " 'Turnovers',\n",
              " 'TotalFouls',\n",
              " 'Opp.FieldGoals',\n",
              " 'Opp.FieldGoalsAttempted',\n",
              " 'Opp.FieldGoals.',\n",
              " 'Opp.3PointShots',\n",
              " 'Opp.3PointShotsAttempted',\n",
              " 'Opp.3PointShots.',\n",
              " 'Opp.FreeThrows',\n",
              " 'Opp.FreeThrowsAttempted',\n",
              " 'Opp.FreeThrows.',\n",
              " 'Opp.OffRebounds',\n",
              " 'Opp.TotalRebounds',\n",
              " 'Opp.Assists',\n",
              " 'Opp.Steals',\n",
              " 'Opp.Blocks',\n",
              " 'Opp.Turnovers',\n",
              " 'Opp.TotalFouls']"
            ]
          },
          "metadata": {}
        }
      ],
      "execution_count": 29,
      "metadata": {
        "collapsed": false,
        "outputHidden": false,
        "inputHidden": false
      }
    },
    {
      "cell_type": "markdown",
      "source": [
        "## Data Cleaning\n",
        "\n",
        "We can see that our target vector (Win or Loss) is the seventh column from the left, so the first thing we need to do is move that vector to the end (right side) of the dataframe. \n",
        "\n",
        "The next thing we can see is that several of these feature vectors in addition to our label vector contain categorical data in the form of strings. The general way to deal with categorical data is to encode this data into numeric data - this will allow our dense neural netowrk to learn from this data. \n",
        "\nAfter our features are seperated from the label and we have purely numeric data, we can scale our dataset and we will be ready for training! "
      ],
      "metadata": {}
    },
    {
      "cell_type": "code",
      "source": [
        "#move label vector to the end of the dataframe \n",
        "\n",
        "cols = list(NBA_data_raw.columns.values) #Make a list of all of the columns in the df\n",
        "cols.pop(cols.index('WINorLOSS')) #Remove WINorLOSS from list\n",
        "df = NBA_data_raw[cols+['WINorLOSS']] #Create new dataframe with columns in the order you want\n",
        "df.head(5) "
      ],
      "outputs": [
        {
          "output_type": "execute_result",
          "execution_count": 30,
          "data": {
            "text/plain": [
              "   Unnamed: 0 Team  Game      Date  Home Opponent  TeamPoints  OpponentPoints  \\\n",
              "0           1  ATL     1  10/29/14  Away      TOR         102             109   \n",
              "1           2  ATL     2   11/1/14  Home      IND         102              92   \n",
              "2           3  ATL     3   11/5/14  Away      SAS          92              94   \n",
              "3           4  ATL     4   11/7/14  Away      CHO         119             122   \n",
              "4           5  ATL     5   11/8/14  Home      NYK         103              96   \n",
              "\n",
              "   FieldGoals  FieldGoalsAttempted    ...      Opp.FreeThrowsAttempted  \\\n",
              "0          40                   80    ...                           33   \n",
              "1          35                   69    ...                           21   \n",
              "2          38                   92    ...                           38   \n",
              "3          43                   93    ...                           27   \n",
              "4          33                   81    ...                           11   \n",
              "\n",
              "   Opp.FreeThrows.  Opp.OffRebounds  Opp.TotalRebounds  Opp.Assists  \\\n",
              "0            0.818               16                 48           26   \n",
              "1            0.857               11                 44           25   \n",
              "2            0.711               11                 50           25   \n",
              "3            0.741               11                 51           31   \n",
              "4            0.727               13                 44           26   \n",
              "\n",
              "   Opp.Steals  Opp.Blocks  Opp.Turnovers  Opp.TotalFouls  WINorLOSS  \n",
              "0          13           9              9              22          L  \n",
              "1           5           5             18              26          W  \n",
              "2           7           9             19              15          L  \n",
              "3           6           7             19              30          L  \n",
              "4           2           6             15              29          W  \n",
              "\n[5 rows x 41 columns]"
            ],
            "text/html": [
              "<div>\n",
              "<style scoped>\n",
              "    .dataframe tbody tr th:only-of-type {\n",
              "        vertical-align: middle;\n",
              "    }\n",
              "\n",
              "    .dataframe tbody tr th {\n",
              "        vertical-align: top;\n",
              "    }\n",
              "\n",
              "    .dataframe thead th {\n",
              "        text-align: right;\n",
              "    }\n",
              "</style>\n",
              "<table border=\"1\" class=\"dataframe\">\n",
              "  <thead>\n",
              "    <tr style=\"text-align: right;\">\n",
              "      <th></th>\n",
              "      <th>Unnamed: 0</th>\n",
              "      <th>Team</th>\n",
              "      <th>Game</th>\n",
              "      <th>Date</th>\n",
              "      <th>Home</th>\n",
              "      <th>Opponent</th>\n",
              "      <th>TeamPoints</th>\n",
              "      <th>OpponentPoints</th>\n",
              "      <th>FieldGoals</th>\n",
              "      <th>FieldGoalsAttempted</th>\n",
              "      <th>...</th>\n",
              "      <th>Opp.FreeThrowsAttempted</th>\n",
              "      <th>Opp.FreeThrows.</th>\n",
              "      <th>Opp.OffRebounds</th>\n",
              "      <th>Opp.TotalRebounds</th>\n",
              "      <th>Opp.Assists</th>\n",
              "      <th>Opp.Steals</th>\n",
              "      <th>Opp.Blocks</th>\n",
              "      <th>Opp.Turnovers</th>\n",
              "      <th>Opp.TotalFouls</th>\n",
              "      <th>WINorLOSS</th>\n",
              "    </tr>\n",
              "  </thead>\n",
              "  <tbody>\n",
              "    <tr>\n",
              "      <th>0</th>\n",
              "      <td>1</td>\n",
              "      <td>ATL</td>\n",
              "      <td>1</td>\n",
              "      <td>10/29/14</td>\n",
              "      <td>Away</td>\n",
              "      <td>TOR</td>\n",
              "      <td>102</td>\n",
              "      <td>109</td>\n",
              "      <td>40</td>\n",
              "      <td>80</td>\n",
              "      <td>...</td>\n",
              "      <td>33</td>\n",
              "      <td>0.818</td>\n",
              "      <td>16</td>\n",
              "      <td>48</td>\n",
              "      <td>26</td>\n",
              "      <td>13</td>\n",
              "      <td>9</td>\n",
              "      <td>9</td>\n",
              "      <td>22</td>\n",
              "      <td>L</td>\n",
              "    </tr>\n",
              "    <tr>\n",
              "      <th>1</th>\n",
              "      <td>2</td>\n",
              "      <td>ATL</td>\n",
              "      <td>2</td>\n",
              "      <td>11/1/14</td>\n",
              "      <td>Home</td>\n",
              "      <td>IND</td>\n",
              "      <td>102</td>\n",
              "      <td>92</td>\n",
              "      <td>35</td>\n",
              "      <td>69</td>\n",
              "      <td>...</td>\n",
              "      <td>21</td>\n",
              "      <td>0.857</td>\n",
              "      <td>11</td>\n",
              "      <td>44</td>\n",
              "      <td>25</td>\n",
              "      <td>5</td>\n",
              "      <td>5</td>\n",
              "      <td>18</td>\n",
              "      <td>26</td>\n",
              "      <td>W</td>\n",
              "    </tr>\n",
              "    <tr>\n",
              "      <th>2</th>\n",
              "      <td>3</td>\n",
              "      <td>ATL</td>\n",
              "      <td>3</td>\n",
              "      <td>11/5/14</td>\n",
              "      <td>Away</td>\n",
              "      <td>SAS</td>\n",
              "      <td>92</td>\n",
              "      <td>94</td>\n",
              "      <td>38</td>\n",
              "      <td>92</td>\n",
              "      <td>...</td>\n",
              "      <td>38</td>\n",
              "      <td>0.711</td>\n",
              "      <td>11</td>\n",
              "      <td>50</td>\n",
              "      <td>25</td>\n",
              "      <td>7</td>\n",
              "      <td>9</td>\n",
              "      <td>19</td>\n",
              "      <td>15</td>\n",
              "      <td>L</td>\n",
              "    </tr>\n",
              "    <tr>\n",
              "      <th>3</th>\n",
              "      <td>4</td>\n",
              "      <td>ATL</td>\n",
              "      <td>4</td>\n",
              "      <td>11/7/14</td>\n",
              "      <td>Away</td>\n",
              "      <td>CHO</td>\n",
              "      <td>119</td>\n",
              "      <td>122</td>\n",
              "      <td>43</td>\n",
              "      <td>93</td>\n",
              "      <td>...</td>\n",
              "      <td>27</td>\n",
              "      <td>0.741</td>\n",
              "      <td>11</td>\n",
              "      <td>51</td>\n",
              "      <td>31</td>\n",
              "      <td>6</td>\n",
              "      <td>7</td>\n",
              "      <td>19</td>\n",
              "      <td>30</td>\n",
              "      <td>L</td>\n",
              "    </tr>\n",
              "    <tr>\n",
              "      <th>4</th>\n",
              "      <td>5</td>\n",
              "      <td>ATL</td>\n",
              "      <td>5</td>\n",
              "      <td>11/8/14</td>\n",
              "      <td>Home</td>\n",
              "      <td>NYK</td>\n",
              "      <td>103</td>\n",
              "      <td>96</td>\n",
              "      <td>33</td>\n",
              "      <td>81</td>\n",
              "      <td>...</td>\n",
              "      <td>11</td>\n",
              "      <td>0.727</td>\n",
              "      <td>13</td>\n",
              "      <td>44</td>\n",
              "      <td>26</td>\n",
              "      <td>2</td>\n",
              "      <td>6</td>\n",
              "      <td>15</td>\n",
              "      <td>29</td>\n",
              "      <td>W</td>\n",
              "    </tr>\n",
              "  </tbody>\n",
              "</table>\n",
              "<p>5 rows × 41 columns</p>\n",
              "</div>"
            ]
          },
          "metadata": {}
        }
      ],
      "execution_count": 30,
      "metadata": {
        "collapsed": false,
        "outputHidden": false,
        "inputHidden": false
      }
    },
    {
      "cell_type": "markdown",
      "source": [
        "### Continued data cleaning\n",
        "\nWe can see that our label vector has been moved to the end of the dataframe. We can now encode our categorical data so that we have a purely numeric dataset. "
      ],
      "metadata": {
        "collapsed": false,
        "outputHidden": false,
        "inputHidden": false
      }
    },
    {
      "cell_type": "code",
      "source": [
        "#define a function to label encode a 2D (x,y) matrix and return an encoded matrix\n",
        "def int_encode(df):\n",
        "    cols = df.shape[1]\n",
        "    rows = df.shape[0]\n",
        "    original_size = df.shape[1]\n",
        "    \n",
        "    for i in range(0, cols, 1):\n",
        "        values = df.iloc[:,i]\n",
        "        #integer encode each column\n",
        "        label_encoder = LabelEncoder()\n",
        "        integer_encoded = label_encoder.fit_transform(values) #integer encode the i'th column \n",
        "        encoded_vec = pd.DataFrame(integer_encoded) #convert to pd.dataframe\n",
        "        df = pd.concat([df, encoded_vec], axis=1) #concatenate the new, encoded vector onto the original dataframe\n",
        "    \n",
        "    final_df = df.iloc[:,-cols:] #Only keep the last (leftmost) half of the columns representing the encoded data\n",
        "    print(\"Integer encoding successful!\")\n",
        "    print(\"Dataframe shape: \", final_df.shape)\n",
        "    return(final_df)\n"
      ],
      "outputs": [],
      "execution_count": 31,
      "metadata": {
        "collapsed": false,
        "outputHidden": false,
        "inputHidden": false
      }
    },
    {
      "cell_type": "markdown",
      "source": [
        "We can now use our function to convert our categorical data into integer encoded, numeric data. "
      ],
      "metadata": {}
    },
    {
      "cell_type": "code",
      "source": [
        "df2 = int_encode(df)\n",
        "df2.head(5) #preview our new dataset"
      ],
      "outputs": [
        {
          "output_type": "stream",
          "name": "stdout",
          "text": [
            "Integer encoding successful!\n",
            "Dataframe shape:  (9840, 41)\n"
          ]
        },
        {
          "output_type": "execute_result",
          "execution_count": 32,
          "data": {
            "text/plain": [
              "   0  0  0    0  0   0   0   0   0   0 ...   0    0   0   0   0   0  0   0  \\\n",
              "0  0  0  0  143  0  27  37  44  21  19 ...  32  210  16  27  20  13  9   7   \n",
              "1  1  0  1  155  1  11  37  27  16   8 ...  20  231  11  23  19   5  5  16   \n",
              "2  2  0  2  251  0  26  27  29  19  31 ...  37  145  11  29  19   7  9  17   \n",
              "3  3  0  3  259  0   4  54  57  24  32 ...  26  163  11  30  25   6  7  17   \n",
              "4  4  0  4  263  1  19  38  31  14  20 ...  10  154  13  23  20   2  6  13   \n",
              "\n",
              "    0  0  \n",
              "0  15  0  \n",
              "1  19  1  \n",
              "2   8  0  \n",
              "3  23  0  \n",
              "4  22  1  \n",
              "\n[5 rows x 41 columns]"
            ],
            "text/html": [
              "<div>\n",
              "<style scoped>\n",
              "    .dataframe tbody tr th:only-of-type {\n",
              "        vertical-align: middle;\n",
              "    }\n",
              "\n",
              "    .dataframe tbody tr th {\n",
              "        vertical-align: top;\n",
              "    }\n",
              "\n",
              "    .dataframe thead th {\n",
              "        text-align: right;\n",
              "    }\n",
              "</style>\n",
              "<table border=\"1\" class=\"dataframe\">\n",
              "  <thead>\n",
              "    <tr style=\"text-align: right;\">\n",
              "      <th></th>\n",
              "      <th>0</th>\n",
              "      <th>0</th>\n",
              "      <th>0</th>\n",
              "      <th>0</th>\n",
              "      <th>0</th>\n",
              "      <th>0</th>\n",
              "      <th>0</th>\n",
              "      <th>0</th>\n",
              "      <th>0</th>\n",
              "      <th>0</th>\n",
              "      <th>...</th>\n",
              "      <th>0</th>\n",
              "      <th>0</th>\n",
              "      <th>0</th>\n",
              "      <th>0</th>\n",
              "      <th>0</th>\n",
              "      <th>0</th>\n",
              "      <th>0</th>\n",
              "      <th>0</th>\n",
              "      <th>0</th>\n",
              "      <th>0</th>\n",
              "    </tr>\n",
              "  </thead>\n",
              "  <tbody>\n",
              "    <tr>\n",
              "      <th>0</th>\n",
              "      <td>0</td>\n",
              "      <td>0</td>\n",
              "      <td>0</td>\n",
              "      <td>143</td>\n",
              "      <td>0</td>\n",
              "      <td>27</td>\n",
              "      <td>37</td>\n",
              "      <td>44</td>\n",
              "      <td>21</td>\n",
              "      <td>19</td>\n",
              "      <td>...</td>\n",
              "      <td>32</td>\n",
              "      <td>210</td>\n",
              "      <td>16</td>\n",
              "      <td>27</td>\n",
              "      <td>20</td>\n",
              "      <td>13</td>\n",
              "      <td>9</td>\n",
              "      <td>7</td>\n",
              "      <td>15</td>\n",
              "      <td>0</td>\n",
              "    </tr>\n",
              "    <tr>\n",
              "      <th>1</th>\n",
              "      <td>1</td>\n",
              "      <td>0</td>\n",
              "      <td>1</td>\n",
              "      <td>155</td>\n",
              "      <td>1</td>\n",
              "      <td>11</td>\n",
              "      <td>37</td>\n",
              "      <td>27</td>\n",
              "      <td>16</td>\n",
              "      <td>8</td>\n",
              "      <td>...</td>\n",
              "      <td>20</td>\n",
              "      <td>231</td>\n",
              "      <td>11</td>\n",
              "      <td>23</td>\n",
              "      <td>19</td>\n",
              "      <td>5</td>\n",
              "      <td>5</td>\n",
              "      <td>16</td>\n",
              "      <td>19</td>\n",
              "      <td>1</td>\n",
              "    </tr>\n",
              "    <tr>\n",
              "      <th>2</th>\n",
              "      <td>2</td>\n",
              "      <td>0</td>\n",
              "      <td>2</td>\n",
              "      <td>251</td>\n",
              "      <td>0</td>\n",
              "      <td>26</td>\n",
              "      <td>27</td>\n",
              "      <td>29</td>\n",
              "      <td>19</td>\n",
              "      <td>31</td>\n",
              "      <td>...</td>\n",
              "      <td>37</td>\n",
              "      <td>145</td>\n",
              "      <td>11</td>\n",
              "      <td>29</td>\n",
              "      <td>19</td>\n",
              "      <td>7</td>\n",
              "      <td>9</td>\n",
              "      <td>17</td>\n",
              "      <td>8</td>\n",
              "      <td>0</td>\n",
              "    </tr>\n",
              "    <tr>\n",
              "      <th>3</th>\n",
              "      <td>3</td>\n",
              "      <td>0</td>\n",
              "      <td>3</td>\n",
              "      <td>259</td>\n",
              "      <td>0</td>\n",
              "      <td>4</td>\n",
              "      <td>54</td>\n",
              "      <td>57</td>\n",
              "      <td>24</td>\n",
              "      <td>32</td>\n",
              "      <td>...</td>\n",
              "      <td>26</td>\n",
              "      <td>163</td>\n",
              "      <td>11</td>\n",
              "      <td>30</td>\n",
              "      <td>25</td>\n",
              "      <td>6</td>\n",
              "      <td>7</td>\n",
              "      <td>17</td>\n",
              "      <td>23</td>\n",
              "      <td>0</td>\n",
              "    </tr>\n",
              "    <tr>\n",
              "      <th>4</th>\n",
              "      <td>4</td>\n",
              "      <td>0</td>\n",
              "      <td>4</td>\n",
              "      <td>263</td>\n",
              "      <td>1</td>\n",
              "      <td>19</td>\n",
              "      <td>38</td>\n",
              "      <td>31</td>\n",
              "      <td>14</td>\n",
              "      <td>20</td>\n",
              "      <td>...</td>\n",
              "      <td>10</td>\n",
              "      <td>154</td>\n",
              "      <td>13</td>\n",
              "      <td>23</td>\n",
              "      <td>20</td>\n",
              "      <td>2</td>\n",
              "      <td>6</td>\n",
              "      <td>13</td>\n",
              "      <td>22</td>\n",
              "      <td>1</td>\n",
              "    </tr>\n",
              "  </tbody>\n",
              "</table>\n",
              "<p>5 rows × 41 columns</p>\n",
              "</div>"
            ]
          },
          "metadata": {}
        }
      ],
      "execution_count": 32,
      "metadata": {
        "collapsed": false,
        "outputHidden": false,
        "inputHidden": false
      }
    },
    {
      "cell_type": "markdown",
      "source": [
        "The last step in preprocessing is to scale our dataset. "
      ],
      "metadata": {}
    },
    {
      "cell_type": "code",
      "source": [
        "#Scaling\n",
        "df_scaled = preprocessing.scale(df2)\n",
        "print(df_scaled[:,5:]) #print first 5 rows of the new numpy matrix"
      ],
      "outputs": [
        {
          "output_type": "stream",
          "name": "stdout",
          "text": [
            "[[ 1.44417822 -0.13558717  0.43892343 ... -1.19881172  0.4498342\n",
            "  -1.        ]\n",
            " [-0.4043699  -0.13558717 -0.9563166  ...  1.12716247  1.37653127\n",
            "   1.        ]\n",
            " [ 1.32864396 -0.9563166  -0.79217071 ...  1.38560405 -1.17188567\n",
            "  -1.        ]\n",
            " ...\n",
            " [-1.67524673 -0.54595188 -0.05351423 ...  1.12716247  0.4498342\n",
            "  -1.        ]\n",
            " [-1.55971247  0.7672152  -0.21766011 ...  0.61027932 -0.47686287\n",
            "   1.        ]\n",
            " [ 0.75097267 -0.9563166  -0.21766011 ...  0.61027932  1.60820554\n",
            "  -1.        ]]\n"
          ]
        }
      ],
      "execution_count": 33,
      "metadata": {
        "collapsed": false,
        "outputHidden": false,
        "inputHidden": false
      }
    },
    {
      "cell_type": "code",
      "source": [
        "#Seperate training and testing data\n",
        "y = df2.iloc[:, -1] #labels are the last column in the matrix\n",
        "X = df2.iloc[:, :40] #assign feature set\n",
        "X_train, X_test, y_train, y_test = train_test_split(X, y, test_size=0.30, random_state=42)\n",
        "print(\"X train shape: \", X_train.shape)\n",
        "print(\"y train shape: \", y_train.shape)\n",
        "print(\"X test shape: \", X_test.shape)\n",
        "print(\"y test shape: \", y_test.shape) \n",
        "\n",
        "X_train = X_train.values\n",
        "X_test = X_test.values\n",
        "y_train = y_train.values \n",
        "y_test = y_test.values"
      ],
      "outputs": [
        {
          "output_type": "stream",
          "name": "stdout",
          "text": [
            "X train shape:  (6888, 40)\n",
            "y train shape:  (6888,)\n",
            "X test shape:  (2952, 40)\n",
            "y test shape:  (2952,)\n"
          ]
        }
      ],
      "execution_count": 34,
      "metadata": {
        "collapsed": false,
        "outputHidden": false,
        "inputHidden": false
      }
    },
    {
      "cell_type": "markdown",
      "source": [
        "And with that, we have fully prepared our dataset! Remember that the 41st column - the label vector - represents the result of the game. This is what we're trying to predict. We're now ready to create a neural network in TensorFlow and begin training."
      ],
      "metadata": {}
    },
    {
      "cell_type": "markdown",
      "source": [
        "# Deep Learning - PyTorch\n",
        "\n",
        "------\n",
        "\n",
        "### SOURCES\n",
        "\n",
        "When learning how to construct feedforward networks (or any type of netowrk) in PyTorch, I referenced [Sung Kim's Github](https://github.com/hunkim). There, Sung Kim has layed out a repository called [PyTorch Zero To All](https://github.com/hunkim/PyTorchZeroToAll) in which he includes slide decks and code explaining how to build neural netowrks using pytorch from first principles. This was my main resource - in addition to Sung Kim's [Youtube Series](https://www.youtube.com/watch?v=SKq-pmkekTk) - which I used for the next section of this notebook. \n",
        "\n",
        "Other important sources include: \n",
        "\n",
        "\"Deep Learning\" by Ian Goodfellow and Yoshua Bengio and Aaron Courville. \n",
        "\n",
        "@book{Goodfellow-et-al-2016, <br>\n",
        "    title={Deep Learning}, <br>\n",
        "    author={Ian Goodfellow and Yoshua Bengio and Aaron Courville}, <br>\n",
        "    publisher={MIT Press}, <br>\n",
        "    note={\\url{http://www.deeplearningbook.org}}, <br>\n",
        "    year={2016} <br>\n",
        "}\n",
        "\n\n"
      ],
      "metadata": {
        "collapsed": false,
        "outputHidden": false,
        "inputHidden": false
      }
    },
    {
      "cell_type": "code",
      "source": [
        "class NBA_Net(nn.Module):\n",
        "    def __init__(self):\n",
        "        \"\"\"\n",
        "        \"super can be used to refer to parent classes without naming them explicitly\"\n",
        "        \n",
        "        We can now construct the network using torch.nn.linear layers \n",
        "        \"\"\"\n",
        "        super().__init__()\n",
        "        self.l1 = torch.nn.Linear(40, 20)\n",
        "        self.dropout = nn.Dropout(0.5)\n",
        "        self.l2 = torch.nn.Linear(20, 10)\n",
        "        self.l3 = torch.nn.Linear(10, 1)\n",
        "\n",
        "        self.sigmoid = torch.nn.Sigmoid()\n",
        "        \n",
        "        \n",
        "    def forward(self, x):\n",
        "        \"\"\"\n",
        "        Our forward function takes in the input data and uses the sigmoid activation function to generate the output\n",
        "        \"\"\"\n",
        "        \n",
        "        out1 = self.sigmoid(self.l1(x))\n",
        "        out2 = self.sigmoid(self.l2(out1))\n",
        "        y_pred = self.sigmoid(self.l3(out2))\n",
        "        return y_pred\n",
        "        "
      ],
      "outputs": [],
      "execution_count": 35,
      "metadata": {
        "collapsed": false,
        "outputHidden": false,
        "inputHidden": false
      }
    },
    {
      "cell_type": "markdown",
      "source": [
        "## A quick note on regularization techniques\n",
        "\n",
        "Note that one dropout layer with p=0.5 was used between the first and secodn layer of the network. There is no generally accepted way to introduce specific regularization techniques to boost model performance or limit the negative effects of overfitting other than simple experementation and testing. James Bergstra and Yoshua Bengio outline this well in their 2012 paper, [Random Search for Hyper-Parameter Optimization](http://www.jmlr.org/papers/volume13/bergstra12a/bergstra12a.pdf) in which they discuess optimization of several hyperpapameters used in deep learning such as network topology (number of layers and neurons per layer) and learning rate. They conclude it's best to use a random search method as opposed to grid search when finding the correct hyperparameters which will yeild the best results from a network. \n",
        "\nThis topic will be further discussed in a later notebook when I focus exclusively on regularization techniques. "
      ],
      "metadata": {
        "collapsed": false,
        "outputHidden": false,
        "inputHidden": false
      }
    },
    {
      "cell_type": "code",
      "source": [
        "# Define Learning Parameters\n",
        "\n",
        "model = NBA_Net() #<-- Use the model created above \n",
        "#We use mean squared error as our loss function becasue the problem at hand is very simple \n",
        "loss_fn = nn.BCELoss()\n",
        "#Adam is a very strong genric optimizer, so we can use it here\n",
        "optimizer = optim.Adam(model.parameters(), lr=1e-3)\n",
        "\n",
        "training_epochs = 500\n",
        "minibatch_size = 10"
      ],
      "outputs": [],
      "execution_count": 36,
      "metadata": {
        "collapsed": false,
        "outputHidden": false,
        "inputHidden": false
      }
    },
    {
      "cell_type": "markdown",
      "source": [
        "We are now ready to train our network. Simple guess and check was used to arrive at the parameter values above. In the next notebook, I will explore the ways that Regularization texhniques can be used to improve model performance. "
      ],
      "metadata": {}
    },
    {
      "cell_type": "code",
      "source": [
        "t0 = time.clock()#define t0 so we can measure training time for different network variations\n",
        "\n",
        "for i in range(training_epochs):\n",
        "    if ((i%25) == 0):\n",
        "        print(\"Epoch\", i, \"/\", training_epochs) #Print our progress\n",
        "    \n",
        "    for batch_ind in range(4):\n",
        "        # wrap the data in variables\n",
        "        minibatch_state_var = Variable(torch.Tensor(X_train))\n",
        "        minibatch_label_var = Variable(torch.Tensor(y_train))\n",
        "        \n",
        "        # forward pass\n",
        "        y_pred = model(minibatch_state_var)\n",
        "        \n",
        "        # loss is MSE - defined above \n",
        "        # compute loss as the difference between the prediction and the true label \n",
        "        loss = loss_fn(y_pred, minibatch_label_var)\n",
        "\n",
        "        # now that the forward pass is done, we need to reset all gradients\n",
        "        optimizer.zero_grad()\n",
        "        \n",
        "        # backwards pass\n",
        "        loss.backward()\n",
        "        \n",
        "        # step the optimizer - update the weights\n",
        "        optimizer.step()\n",
        "        \n",
        "print(\"- - - - - - - - - - - - - - - - - - - - - - - - - - - - - - - - - - - - \")     \n",
        "print(\"TRAINING COMPLETE\")\n",
        "print(\"Number of Epochs Trained: \", training_epochs)\n",
        "print(\"With minibatch size: \", minibatch_size)\n",
        "print(\"Training time: \", time.clock()) \n",
        "print(\"- - - - - - - - - - - - - - - - - - - - - - - - - - - - - - - - - - - - \")"
      ],
      "outputs": [
        {
          "output_type": "stream",
          "name": "stdout",
          "text": [
            "Epoch 0 / 500\n",
            "Epoch 25 / 500\n",
            "Epoch 50 / 500\n",
            "Epoch 75 / 500\n",
            "Epoch 100 / 500\n",
            "Epoch 125 / 500\n",
            "Epoch 150 / 500\n",
            "Epoch 175 / 500\n",
            "Epoch 200 / 500\n",
            "Epoch 225 / 500\n",
            "Epoch 250 / 500\n",
            "Epoch 275 / 500\n",
            "Epoch 300 / 500\n",
            "Epoch 325 / 500\n",
            "Epoch 350 / 500\n",
            "Epoch 375 / 500\n",
            "Epoch 400 / 500\n",
            "Epoch 425 / 500\n",
            "Epoch 450 / 500\n",
            "Epoch 475 / 500\n",
            "- - - - - - - - - - - - - - - - - - - - - - - - - - - - - - - - - - - - \n",
            "TRAINING COMPLETE\n",
            "Number of Epochs Trained:  500\n",
            "With minibatch size:  10\n",
            "Training time:  127.476201\n",
            "- - - - - - - - - - - - - - - - - - - - - - - - - - - - - - - - - - - - \n"
          ]
        },
        {
          "output_type": "stream",
          "name": "stderr",
          "text": [
            "/anaconda3/lib/python3.6/site-packages/torch/nn/functional.py:2016: UserWarning: Using a target size (torch.Size([6888])) that is different to the input size (torch.Size([6888, 1])) is deprecated. Please ensure they have the same size.\n",
            "  \"Please ensure they have the same size.\".format(target.size(), input.size()))\n"
          ]
        }
      ],
      "execution_count": 37,
      "metadata": {
        "collapsed": false,
        "outputHidden": false,
        "inputHidden": false
      }
    },
    {
      "cell_type": "code",
      "source": [
        "#Test the trained model with our holdout data \"X_test\"\n",
        "input_1 = Variable(torch.Tensor(X_test)) # \"variable\" simply creates a new tenosr\n",
        "input_1\n",
        "\n",
        "#Make predictions on the inputs \n",
        "pred_1 = model(input_1)\n",
        "print(\"Prediction for the 1st inputs:\") \n",
        "pred_1"
      ],
      "outputs": [
        {
          "output_type": "stream",
          "name": "stdout",
          "text": [
            "Prediction for the 1st inputs:\n"
          ]
        },
        {
          "output_type": "execute_result",
          "execution_count": 38,
          "data": {
            "text/plain": [
              "tensor([[0.0030],\n",
              "        [0.0032],\n",
              "        [0.0025],\n",
              "        ...,\n",
              "        [0.9960],\n",
              "        [0.9956],\n",
              "        [0.9960]], grad_fn=<SigmoidBackward>)"
            ]
          },
          "metadata": {}
        }
      ],
      "execution_count": 38,
      "metadata": {
        "collapsed": false,
        "outputHidden": false,
        "inputHidden": false
      }
    },
    {
      "cell_type": "markdown",
      "source": [
        "# Model Evaluation\n",
        "\n",
        "------\n",
        "\n",
        "Now that our network has been trained and we have predicted the results using our testing data, we can determine the model's performance. We know that the label veoctor is fairly well balanced, so using Accuracy as a performance metric makes sense here. I will also use both F1 Score and the ROC Score to make sure the results of testing hold up under different XXX. Lastly, and arguable most importantly, we will examine the confusion matrix to determine the rates of Type I and Type II error. \n",
        "\n",
        "We know that $Accuracy = [(TP + TN)/(TP + TN + FP + FN)]$, and becasue our label vector is well balanced with a ratio of (XX/YY), we know accuracy will yeild a strong performance metric. However, it's important to make sure the error is not shifted too far to one side, so we use the F1 Score as well. \n",
        "\n",
        "Remember that $F1 Score = 2 [(Precision*Recall)/(Precision + Recall)]$ \n",
        "\n",
        "where $Precision = [True Positive/(True Positive + False Positive)]$, in other words, $Precision = [True Positive/Total Predicted Positive]$\n",
        "\n",
        "and $Recall = [True Positive/(True Positive + False Negative)]$, in other words, $Precision = [True Positive/Total Actual Positive]$\n",
        "\n",
        "Source: [Towards Data Science](https://towardsdatascience.com/accuracy-precision-recall-or-f1-331fb37c5cb9)\n",
        "\nPerhaps most telling will be the confusion matrix, which will gave us the number of true and false predictions on both the \"prediction\" and \"actual\" side. "
      ],
      "metadata": {}
    },
    {
      "cell_type": "code",
      "source": [
        "#Lets see how we did! \n",
        "pred_1_np = pred_1.detach().numpy()\n",
        "y_pred = np.where(pred_1_np>0.5,1,0) #Convert to binary \n",
        "y_true = y_test\n",
        "A = accuracy_score(y_true, y_pred)\n",
        "F1 = f1_score(y_true, y_pred)\n",
        "print(\"Accuracy:\", A)\n",
        "print(\"F1 Score:\", F1)"
      ],
      "outputs": [
        {
          "output_type": "stream",
          "name": "stdout",
          "text": [
            "Accuracy: 0.9928861788617886\n",
            "F1 Score: 0.9928106812735363\n"
          ]
        }
      ],
      "execution_count": 39,
      "metadata": {
        "collapsed": false,
        "outputHidden": false,
        "inputHidden": false
      }
    },
    {
      "cell_type": "code",
      "source": [
        "# ROC SCORE - PLOT \n",
        "fpr1, tpr1, thresholds1 = metrics.roc_curve(y_true, y_pred)\n",
        "area1 = metrics.auc(fpr1, tpr1)\n",
        "area1 = str(round(area1, 3))\n",
        "print(\"ROC Score: \", area1)\n",
        "\n",
        "x = range(1)\n",
        "y = range(1)\n",
        "fig = plt.figure(figsize=(8, 6))\n",
        "ax1 = fig.add_subplot(111)\n",
        "\n",
        "plt.plot(fpr1, tpr1, color='darkorange', label=('ROC Curve (area = ' + area1 + ')')) \n",
        "plt.plot([0, 1], [0, 1], color='navy', linestyle='--', label=('Random Guess'))\n",
        "plt.legend(loc='lower right');\n",
        "plt.xlabel('False Positive Rate')\n",
        "plt.ylabel('True Positive Rate')\n",
        "plt.title('Validation Set ROC Curve - Three Layer Feedforward Neural Network')\n",
        "plt.grid()"
      ],
      "outputs": [
        {
          "output_type": "stream",
          "name": "stdout",
          "text": [
            "ROC Score:  0.993\n"
          ]
        },
        {
          "output_type": "display_data",
          "data": {
            "text/plain": [
              "<Figure size 576x432 with 1 Axes>"
            ],
            "image/png": "[encoded data removed]"
          },
          "metadata": {}
        }
      ],
      "execution_count": 40,
      "metadata": {
        "collapsed": false,
        "outputHidden": false,
        "inputHidden": false
      }
    },
    {
      "cell_type": "code",
      "source": [
        "confusion_matrix(y_true, y_pred)"
      ],
      "outputs": [
        {
          "output_type": "execute_result",
          "execution_count": 41,
          "data": {
            "text/plain": [
              "array([[1481,   11],\n",
              "       [  10, 1450]])"
            ]
          },
          "metadata": {}
        }
      ],
      "execution_count": 41,
      "metadata": {
        "collapsed": false,
        "outputHidden": false,
        "inputHidden": false
      }
    },
    {
      "cell_type": "markdown",
      "source": [
        "Our model performed very well, with an F1 Score of 99.38%, Accuracy of 99.39%, and an ROC Score of ~99.4%. \n",
        "\n",
        "Before we jump to our feet and run to the sports betting websites, we have to realize that the features in our dataset contain data from the games that we are trying to predict. In other words, we would have to wait through the entire game to collect and aggreagate the data from the game before cleaning it and feeding it to our dense, fully connected network. \n",
        "\nUnless we could do this very efficiently (instantly..) there is little use for this program in terms of actual sports betting. Still, it was a good way to practice using PyTorch to construct a feedforward neural netowrk and perform simple regularization techniques to improve model performance."
      ],
      "metadata": {}
    }
  ],
  "metadata": {
    "kernel_info": {
      "name": "python3"
    },
    "language_info": {
      "name": "python",
      "version": "3.6.5",
      "mimetype": "text/x-python",
      "codemirror_mode": {
        "name": "ipython",
        "version": 3
      },
      "pygments_lexer": "ipython3",
      "nbconvert_exporter": "python",
      "file_extension": ".py"
    },
    "kernelspec": {
      "name": "python3",
      "language": "python",
      "display_name": "Python 3"
    },
    "nteract": {
      "version": "0.12.3"
    }
  },
  "nbformat": 4,
  "nbformat_minor": 4
}