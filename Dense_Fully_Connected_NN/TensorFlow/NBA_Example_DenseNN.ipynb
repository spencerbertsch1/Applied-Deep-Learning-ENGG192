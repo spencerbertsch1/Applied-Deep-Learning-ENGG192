{
  "cells": [
    {
      "cell_type": "markdown",
      "source": [
        "# ENGG 192 \n",
        "### Dartmouth College - January 7, 2019\n",
        "### Spencer Bertsch\n",
        "This program uses TensorFlow to create a dense, fully connected neural network designed to predict the results of NBA games. \n",
        "\n",
        "The data source for this project can be found [here](https://www.kaggle.com/ionaskel/nba-games-stats-from-2014-to-2018#nba.games.stats.csv). \n",
        "\n"
      ],
      "metadata": {
        "collapsed": false,
        "outputHidden": false,
        "inputHidden": false
      }
    },
    {
      "cell_type": "code",
      "source": [
        "# Imports \n",
        "import numpy as np \n",
        "import pandas as pd\n",
        "\n",
        "#Plotting\n",
        "%matplotlib inline \n",
        "import matplotlib.pyplot as plt\n",
        "from matplotlib.colors import ListedColormap\n",
        "\n",
        "#Data cleaning and preprocessing\n",
        "from sklearn import preprocessing\n",
        "from sklearn.preprocessing import LabelEncoder\n",
        "from sklearn.preprocessing import LabelBinarizer\n",
        "from sklearn.model_selection import train_test_split\n"
      ],
      "outputs": [],
      "execution_count": 94,
      "metadata": {}
    },
    {
      "cell_type": "markdown",
      "source": [
        "## Load the Dataset \n",
        "\nOur dataset exists as a .csv file downloaded form Kaggle. In a more developed project we could develop the way that data is loaded into this notebook, but for now we can simply use a handy feature of Pandas called 'read_csv' to import a .csv to a pandas dataframe. "
      ],
      "metadata": {
        "collapsed": false,
        "outputHidden": false,
        "inputHidden": false
      }
    },
    {
      "cell_type": "code",
      "source": [
        "# Import the dataset - load .csv file\n",
        "path = '/Users/spencerbertsch/Desktop/ENGS 192/Dense_NNs/Data/nba_raw_data.csv'\n",
        "#create a dataframe from the NBA data stored in the .csv file\n",
        "NBA_data_raw = pd.read_csv(path)\n",
        "\n",
        "print(\"Shapw of raw dataset:\", (NBA_data_raw.shape))\n",
        "print(\"So we can see that we have 40 features and one label vector\")\n",
        "print(\"We can also see that we have 9,840 rows\")\n",
        "print(\" \")\n",
        "print(\"We can also preview our dataset by observing the top five rows\")\n",
        "NBA_data_raw.head(5)"
      ],
      "outputs": [
        {
          "output_type": "stream",
          "name": "stdout",
          "text": [
            "Shapw of raw dataset: (9840, 41)\n",
            "So we can see that we have 40 features and one label vector\n",
            "We can also see that we have 9,840 rows\n",
            " \n",
            "We can also preview our dataset by observing the top five rows\n"
          ]
        },
        {
          "output_type": "execute_result",
          "execution_count": 95,
          "data": {
            "text/plain": [
              "   Unnamed: 0 Team  Game      Date  Home Opponent WINorLOSS  TeamPoints  \\\n",
              "0           1  ATL     1  10/29/14  Away      TOR         L         102   \n",
              "1           2  ATL     2   11/1/14  Home      IND         W         102   \n",
              "2           3  ATL     3   11/5/14  Away      SAS         L          92   \n",
              "3           4  ATL     4   11/7/14  Away      CHO         L         119   \n",
              "4           5  ATL     5   11/8/14  Home      NYK         W         103   \n",
              "\n",
              "   OpponentPoints  FieldGoals       ...        Opp.FreeThrows  \\\n",
              "0             109          40       ...                    27   \n",
              "1              92          35       ...                    18   \n",
              "2              94          38       ...                    27   \n",
              "3             122          43       ...                    20   \n",
              "4              96          33       ...                     8   \n",
              "\n",
              "   Opp.FreeThrowsAttempted  Opp.FreeThrows.  Opp.OffRebounds  \\\n",
              "0                       33            0.818               16   \n",
              "1                       21            0.857               11   \n",
              "2                       38            0.711               11   \n",
              "3                       27            0.741               11   \n",
              "4                       11            0.727               13   \n",
              "\n",
              "   Opp.TotalRebounds  Opp.Assists  Opp.Steals  Opp.Blocks  Opp.Turnovers  \\\n",
              "0                 48           26          13           9              9   \n",
              "1                 44           25           5           5             18   \n",
              "2                 50           25           7           9             19   \n",
              "3                 51           31           6           7             19   \n",
              "4                 44           26           2           6             15   \n",
              "\n",
              "   Opp.TotalFouls  \n",
              "0              22  \n",
              "1              26  \n",
              "2              15  \n",
              "3              30  \n",
              "4              29  \n",
              "\n[5 rows x 41 columns]"
            ],
            "text/html": [
              "<div>\n",
              "<style scoped>\n",
              "    .dataframe tbody tr th:only-of-type {\n",
              "        vertical-align: middle;\n",
              "    }\n",
              "\n",
              "    .dataframe tbody tr th {\n",
              "        vertical-align: top;\n",
              "    }\n",
              "\n",
              "    .dataframe thead th {\n",
              "        text-align: right;\n",
              "    }\n",
              "</style>\n",
              "<table border=\"1\" class=\"dataframe\">\n",
              "  <thead>\n",
              "    <tr style=\"text-align: right;\">\n",
              "      <th></th>\n",
              "      <th>Unnamed: 0</th>\n",
              "      <th>Team</th>\n",
              "      <th>Game</th>\n",
              "      <th>Date</th>\n",
              "      <th>Home</th>\n",
              "      <th>Opponent</th>\n",
              "      <th>WINorLOSS</th>\n",
              "      <th>TeamPoints</th>\n",
              "      <th>OpponentPoints</th>\n",
              "      <th>FieldGoals</th>\n",
              "      <th>...</th>\n",
              "      <th>Opp.FreeThrows</th>\n",
              "      <th>Opp.FreeThrowsAttempted</th>\n",
              "      <th>Opp.FreeThrows.</th>\n",
              "      <th>Opp.OffRebounds</th>\n",
              "      <th>Opp.TotalRebounds</th>\n",
              "      <th>Opp.Assists</th>\n",
              "      <th>Opp.Steals</th>\n",
              "      <th>Opp.Blocks</th>\n",
              "      <th>Opp.Turnovers</th>\n",
              "      <th>Opp.TotalFouls</th>\n",
              "    </tr>\n",
              "  </thead>\n",
              "  <tbody>\n",
              "    <tr>\n",
              "      <th>0</th>\n",
              "      <td>1</td>\n",
              "      <td>ATL</td>\n",
              "      <td>1</td>\n",
              "      <td>10/29/14</td>\n",
              "      <td>Away</td>\n",
              "      <td>TOR</td>\n",
              "      <td>L</td>\n",
              "      <td>102</td>\n",
              "      <td>109</td>\n",
              "      <td>40</td>\n",
              "      <td>...</td>\n",
              "      <td>27</td>\n",
              "      <td>33</td>\n",
              "      <td>0.818</td>\n",
              "      <td>16</td>\n",
              "      <td>48</td>\n",
              "      <td>26</td>\n",
              "      <td>13</td>\n",
              "      <td>9</td>\n",
              "      <td>9</td>\n",
              "      <td>22</td>\n",
              "    </tr>\n",
              "    <tr>\n",
              "      <th>1</th>\n",
              "      <td>2</td>\n",
              "      <td>ATL</td>\n",
              "      <td>2</td>\n",
              "      <td>11/1/14</td>\n",
              "      <td>Home</td>\n",
              "      <td>IND</td>\n",
              "      <td>W</td>\n",
              "      <td>102</td>\n",
              "      <td>92</td>\n",
              "      <td>35</td>\n",
              "      <td>...</td>\n",
              "      <td>18</td>\n",
              "      <td>21</td>\n",
              "      <td>0.857</td>\n",
              "      <td>11</td>\n",
              "      <td>44</td>\n",
              "      <td>25</td>\n",
              "      <td>5</td>\n",
              "      <td>5</td>\n",
              "      <td>18</td>\n",
              "      <td>26</td>\n",
              "    </tr>\n",
              "    <tr>\n",
              "      <th>2</th>\n",
              "      <td>3</td>\n",
              "      <td>ATL</td>\n",
              "      <td>3</td>\n",
              "      <td>11/5/14</td>\n",
              "      <td>Away</td>\n",
              "      <td>SAS</td>\n",
              "      <td>L</td>\n",
              "      <td>92</td>\n",
              "      <td>94</td>\n",
              "      <td>38</td>\n",
              "      <td>...</td>\n",
              "      <td>27</td>\n",
              "      <td>38</td>\n",
              "      <td>0.711</td>\n",
              "      <td>11</td>\n",
              "      <td>50</td>\n",
              "      <td>25</td>\n",
              "      <td>7</td>\n",
              "      <td>9</td>\n",
              "      <td>19</td>\n",
              "      <td>15</td>\n",
              "    </tr>\n",
              "    <tr>\n",
              "      <th>3</th>\n",
              "      <td>4</td>\n",
              "      <td>ATL</td>\n",
              "      <td>4</td>\n",
              "      <td>11/7/14</td>\n",
              "      <td>Away</td>\n",
              "      <td>CHO</td>\n",
              "      <td>L</td>\n",
              "      <td>119</td>\n",
              "      <td>122</td>\n",
              "      <td>43</td>\n",
              "      <td>...</td>\n",
              "      <td>20</td>\n",
              "      <td>27</td>\n",
              "      <td>0.741</td>\n",
              "      <td>11</td>\n",
              "      <td>51</td>\n",
              "      <td>31</td>\n",
              "      <td>6</td>\n",
              "      <td>7</td>\n",
              "      <td>19</td>\n",
              "      <td>30</td>\n",
              "    </tr>\n",
              "    <tr>\n",
              "      <th>4</th>\n",
              "      <td>5</td>\n",
              "      <td>ATL</td>\n",
              "      <td>5</td>\n",
              "      <td>11/8/14</td>\n",
              "      <td>Home</td>\n",
              "      <td>NYK</td>\n",
              "      <td>W</td>\n",
              "      <td>103</td>\n",
              "      <td>96</td>\n",
              "      <td>33</td>\n",
              "      <td>...</td>\n",
              "      <td>8</td>\n",
              "      <td>11</td>\n",
              "      <td>0.727</td>\n",
              "      <td>13</td>\n",
              "      <td>44</td>\n",
              "      <td>26</td>\n",
              "      <td>2</td>\n",
              "      <td>6</td>\n",
              "      <td>15</td>\n",
              "      <td>29</td>\n",
              "    </tr>\n",
              "  </tbody>\n",
              "</table>\n",
              "<p>5 rows × 41 columns</p>\n",
              "</div>"
            ]
          },
          "metadata": {}
        }
      ],
      "execution_count": 95,
      "metadata": {
        "collapsed": false,
        "outputHidden": false,
        "inputHidden": false
      }
    },
    {
      "cell_type": "code",
      "source": [
        "print(\" \")\n",
        "print(\"We can then make a list from the column headers and observe all of the information that our dataset has aggregated for each game\")\n",
        "cols = list(NBA_data_raw.columns.values) #Make a list of all of the columns in the df\n",
        "cols"
      ],
      "outputs": [
        {
          "output_type": "stream",
          "name": "stdout",
          "text": [
            " \n",
            "We can then make a list from the column headers and observe all of the information that our dataset has aggregated for each game\n"
          ]
        },
        {
          "output_type": "execute_result",
          "execution_count": 96,
          "data": {
            "text/plain": [
              "['Unnamed: 0',\n",
              " 'Team',\n",
              " 'Game',\n",
              " 'Date',\n",
              " 'Home',\n",
              " 'Opponent',\n",
              " 'WINorLOSS',\n",
              " 'TeamPoints',\n",
              " 'OpponentPoints',\n",
              " 'FieldGoals',\n",
              " 'FieldGoalsAttempted',\n",
              " 'FieldGoals.',\n",
              " 'X3PointShots',\n",
              " 'X3PointShotsAttempted',\n",
              " 'X3PointShots.',\n",
              " 'FreeThrows',\n",
              " 'FreeThrowsAttempted',\n",
              " 'FreeThrows.',\n",
              " 'OffRebounds',\n",
              " 'TotalRebounds',\n",
              " 'Assists',\n",
              " 'Steals',\n",
              " 'Blocks',\n",
              " 'Turnovers',\n",
              " 'TotalFouls',\n",
              " 'Opp.FieldGoals',\n",
              " 'Opp.FieldGoalsAttempted',\n",
              " 'Opp.FieldGoals.',\n",
              " 'Opp.3PointShots',\n",
              " 'Opp.3PointShotsAttempted',\n",
              " 'Opp.3PointShots.',\n",
              " 'Opp.FreeThrows',\n",
              " 'Opp.FreeThrowsAttempted',\n",
              " 'Opp.FreeThrows.',\n",
              " 'Opp.OffRebounds',\n",
              " 'Opp.TotalRebounds',\n",
              " 'Opp.Assists',\n",
              " 'Opp.Steals',\n",
              " 'Opp.Blocks',\n",
              " 'Opp.Turnovers',\n",
              " 'Opp.TotalFouls']"
            ]
          },
          "metadata": {}
        }
      ],
      "execution_count": 96,
      "metadata": {
        "collapsed": false,
        "outputHidden": false,
        "inputHidden": false
      }
    },
    {
      "cell_type": "markdown",
      "source": [
        "## Data Cleaning\n",
        "\n",
        "We can see that our target vector (Win or Loss) is the seventh column from the left, so the first thing we need to do is move that vector to the end (right side) of the dataframe. \n",
        "\n",
        "The next thing we can see is that several of these feature vectors in addition to our label vector contain categorical data in the form of strings. The general way to deal with categorical data is to encode this data into numeric data - this will allow our dense neural netowrk to learn from this data. \n",
        "\nAfter our features are seperated from the label and we have purely numeric data, we can scale our dataset and we will be ready for training! "
      ],
      "metadata": {}
    },
    {
      "cell_type": "code",
      "source": [
        "#move label vector to the end of the dataframe \n",
        "\n",
        "cols = list(NBA_data_raw.columns.values) #Make a list of all of the columns in the df\n",
        "cols.pop(cols.index('WINorLOSS')) #Remove WINorLOSS from list\n",
        "df = NBA_data_raw[cols+['WINorLOSS']] #Create new dataframe with columns in the order you want\n",
        "df.head(5) "
      ],
      "outputs": [
        {
          "output_type": "execute_result",
          "execution_count": 97,
          "data": {
            "text/plain": [
              "   Unnamed: 0 Team  Game      Date  Home Opponent  TeamPoints  OpponentPoints  \\\n",
              "0           1  ATL     1  10/29/14  Away      TOR         102             109   \n",
              "1           2  ATL     2   11/1/14  Home      IND         102              92   \n",
              "2           3  ATL     3   11/5/14  Away      SAS          92              94   \n",
              "3           4  ATL     4   11/7/14  Away      CHO         119             122   \n",
              "4           5  ATL     5   11/8/14  Home      NYK         103              96   \n",
              "\n",
              "   FieldGoals  FieldGoalsAttempted    ...      Opp.FreeThrowsAttempted  \\\n",
              "0          40                   80    ...                           33   \n",
              "1          35                   69    ...                           21   \n",
              "2          38                   92    ...                           38   \n",
              "3          43                   93    ...                           27   \n",
              "4          33                   81    ...                           11   \n",
              "\n",
              "   Opp.FreeThrows.  Opp.OffRebounds  Opp.TotalRebounds  Opp.Assists  \\\n",
              "0            0.818               16                 48           26   \n",
              "1            0.857               11                 44           25   \n",
              "2            0.711               11                 50           25   \n",
              "3            0.741               11                 51           31   \n",
              "4            0.727               13                 44           26   \n",
              "\n",
              "   Opp.Steals  Opp.Blocks  Opp.Turnovers  Opp.TotalFouls  WINorLOSS  \n",
              "0          13           9              9              22          L  \n",
              "1           5           5             18              26          W  \n",
              "2           7           9             19              15          L  \n",
              "3           6           7             19              30          L  \n",
              "4           2           6             15              29          W  \n",
              "\n[5 rows x 41 columns]"
            ],
            "text/html": [
              "<div>\n",
              "<style scoped>\n",
              "    .dataframe tbody tr th:only-of-type {\n",
              "        vertical-align: middle;\n",
              "    }\n",
              "\n",
              "    .dataframe tbody tr th {\n",
              "        vertical-align: top;\n",
              "    }\n",
              "\n",
              "    .dataframe thead th {\n",
              "        text-align: right;\n",
              "    }\n",
              "</style>\n",
              "<table border=\"1\" class=\"dataframe\">\n",
              "  <thead>\n",
              "    <tr style=\"text-align: right;\">\n",
              "      <th></th>\n",
              "      <th>Unnamed: 0</th>\n",
              "      <th>Team</th>\n",
              "      <th>Game</th>\n",
              "      <th>Date</th>\n",
              "      <th>Home</th>\n",
              "      <th>Opponent</th>\n",
              "      <th>TeamPoints</th>\n",
              "      <th>OpponentPoints</th>\n",
              "      <th>FieldGoals</th>\n",
              "      <th>FieldGoalsAttempted</th>\n",
              "      <th>...</th>\n",
              "      <th>Opp.FreeThrowsAttempted</th>\n",
              "      <th>Opp.FreeThrows.</th>\n",
              "      <th>Opp.OffRebounds</th>\n",
              "      <th>Opp.TotalRebounds</th>\n",
              "      <th>Opp.Assists</th>\n",
              "      <th>Opp.Steals</th>\n",
              "      <th>Opp.Blocks</th>\n",
              "      <th>Opp.Turnovers</th>\n",
              "      <th>Opp.TotalFouls</th>\n",
              "      <th>WINorLOSS</th>\n",
              "    </tr>\n",
              "  </thead>\n",
              "  <tbody>\n",
              "    <tr>\n",
              "      <th>0</th>\n",
              "      <td>1</td>\n",
              "      <td>ATL</td>\n",
              "      <td>1</td>\n",
              "      <td>10/29/14</td>\n",
              "      <td>Away</td>\n",
              "      <td>TOR</td>\n",
              "      <td>102</td>\n",
              "      <td>109</td>\n",
              "      <td>40</td>\n",
              "      <td>80</td>\n",
              "      <td>...</td>\n",
              "      <td>33</td>\n",
              "      <td>0.818</td>\n",
              "      <td>16</td>\n",
              "      <td>48</td>\n",
              "      <td>26</td>\n",
              "      <td>13</td>\n",
              "      <td>9</td>\n",
              "      <td>9</td>\n",
              "      <td>22</td>\n",
              "      <td>L</td>\n",
              "    </tr>\n",
              "    <tr>\n",
              "      <th>1</th>\n",
              "      <td>2</td>\n",
              "      <td>ATL</td>\n",
              "      <td>2</td>\n",
              "      <td>11/1/14</td>\n",
              "      <td>Home</td>\n",
              "      <td>IND</td>\n",
              "      <td>102</td>\n",
              "      <td>92</td>\n",
              "      <td>35</td>\n",
              "      <td>69</td>\n",
              "      <td>...</td>\n",
              "      <td>21</td>\n",
              "      <td>0.857</td>\n",
              "      <td>11</td>\n",
              "      <td>44</td>\n",
              "      <td>25</td>\n",
              "      <td>5</td>\n",
              "      <td>5</td>\n",
              "      <td>18</td>\n",
              "      <td>26</td>\n",
              "      <td>W</td>\n",
              "    </tr>\n",
              "    <tr>\n",
              "      <th>2</th>\n",
              "      <td>3</td>\n",
              "      <td>ATL</td>\n",
              "      <td>3</td>\n",
              "      <td>11/5/14</td>\n",
              "      <td>Away</td>\n",
              "      <td>SAS</td>\n",
              "      <td>92</td>\n",
              "      <td>94</td>\n",
              "      <td>38</td>\n",
              "      <td>92</td>\n",
              "      <td>...</td>\n",
              "      <td>38</td>\n",
              "      <td>0.711</td>\n",
              "      <td>11</td>\n",
              "      <td>50</td>\n",
              "      <td>25</td>\n",
              "      <td>7</td>\n",
              "      <td>9</td>\n",
              "      <td>19</td>\n",
              "      <td>15</td>\n",
              "      <td>L</td>\n",
              "    </tr>\n",
              "    <tr>\n",
              "      <th>3</th>\n",
              "      <td>4</td>\n",
              "      <td>ATL</td>\n",
              "      <td>4</td>\n",
              "      <td>11/7/14</td>\n",
              "      <td>Away</td>\n",
              "      <td>CHO</td>\n",
              "      <td>119</td>\n",
              "      <td>122</td>\n",
              "      <td>43</td>\n",
              "      <td>93</td>\n",
              "      <td>...</td>\n",
              "      <td>27</td>\n",
              "      <td>0.741</td>\n",
              "      <td>11</td>\n",
              "      <td>51</td>\n",
              "      <td>31</td>\n",
              "      <td>6</td>\n",
              "      <td>7</td>\n",
              "      <td>19</td>\n",
              "      <td>30</td>\n",
              "      <td>L</td>\n",
              "    </tr>\n",
              "    <tr>\n",
              "      <th>4</th>\n",
              "      <td>5</td>\n",
              "      <td>ATL</td>\n",
              "      <td>5</td>\n",
              "      <td>11/8/14</td>\n",
              "      <td>Home</td>\n",
              "      <td>NYK</td>\n",
              "      <td>103</td>\n",
              "      <td>96</td>\n",
              "      <td>33</td>\n",
              "      <td>81</td>\n",
              "      <td>...</td>\n",
              "      <td>11</td>\n",
              "      <td>0.727</td>\n",
              "      <td>13</td>\n",
              "      <td>44</td>\n",
              "      <td>26</td>\n",
              "      <td>2</td>\n",
              "      <td>6</td>\n",
              "      <td>15</td>\n",
              "      <td>29</td>\n",
              "      <td>W</td>\n",
              "    </tr>\n",
              "  </tbody>\n",
              "</table>\n",
              "<p>5 rows × 41 columns</p>\n",
              "</div>"
            ]
          },
          "metadata": {}
        }
      ],
      "execution_count": 97,
      "metadata": {
        "collapsed": false,
        "outputHidden": false,
        "inputHidden": false
      }
    },
    {
      "cell_type": "markdown",
      "source": [
        "### Continued data cleaning\n",
        "\nWe can see that our label vector has been moved to the end of the dataframe. We can now encode our categorical data so that we have a purely numeric dataset. "
      ],
      "metadata": {
        "collapsed": false,
        "outputHidden": false,
        "inputHidden": false
      }
    },
    {
      "cell_type": "code",
      "source": [
        "#define a function to label encode a 2D (x,y) matrix and return an encoded matrix\n",
        "def int_encode(df):\n",
        "    cols = df.shape[1]\n",
        "    rows = df.shape[0]\n",
        "    original_size = df.shape[1]\n",
        "    \n",
        "    for i in range(0, cols, 1):\n",
        "        values = df.iloc[:,i]\n",
        "        #integer encode each column\n",
        "        label_encoder = LabelEncoder()\n",
        "        integer_encoded = label_encoder.fit_transform(values) #integer encode the i'th column \n",
        "        encoded_vec = pd.DataFrame(integer_encoded) #convert to pd.dataframe\n",
        "        df = pd.concat([df, encoded_vec], axis=1) #concatenate the new, encoded vector onto the original dataframe\n",
        "    \n",
        "    final_df = df.iloc[:,-cols:] #Only keep the last (leftmost) half of the columns representing the encoded data\n",
        "    print(\"Integer encoding successful!\")\n",
        "    print(\"Dataframe shape: \", final_df.shape)\n",
        "    return(final_df)\n"
      ],
      "outputs": [],
      "execution_count": 98,
      "metadata": {
        "collapsed": false,
        "outputHidden": false,
        "inputHidden": false
      }
    },
    {
      "cell_type": "markdown",
      "source": [
        "We can now use our function to convert our categorical data into integer encoded, numeric data. "
      ],
      "metadata": {}
    },
    {
      "cell_type": "code",
      "source": [
        "df2 = int_encode(df)\n",
        "df2.head(5) #preview our new dataset"
      ],
      "outputs": [
        {
          "output_type": "stream",
          "name": "stdout",
          "text": [
            "Integer encoding successful!\n",
            "Dataframe shape:  (9840, 41)\n"
          ]
        },
        {
          "output_type": "execute_result",
          "execution_count": 99,
          "data": {
            "text/plain": [
              "   0  0  0    0  0   0   0   0   0   0 ...   0    0   0   0   0   0  0   0  \\\n",
              "0  0  0  0  143  0  27  37  44  21  19 ...  32  210  16  27  20  13  9   7   \n",
              "1  1  0  1  155  1  11  37  27  16   8 ...  20  231  11  23  19   5  5  16   \n",
              "2  2  0  2  251  0  26  27  29  19  31 ...  37  145  11  29  19   7  9  17   \n",
              "3  3  0  3  259  0   4  54  57  24  32 ...  26  163  11  30  25   6  7  17   \n",
              "4  4  0  4  263  1  19  38  31  14  20 ...  10  154  13  23  20   2  6  13   \n",
              "\n",
              "    0  0  \n",
              "0  15  0  \n",
              "1  19  1  \n",
              "2   8  0  \n",
              "3  23  0  \n",
              "4  22  1  \n",
              "\n[5 rows x 41 columns]"
            ],
            "text/html": [
              "<div>\n",
              "<style scoped>\n",
              "    .dataframe tbody tr th:only-of-type {\n",
              "        vertical-align: middle;\n",
              "    }\n",
              "\n",
              "    .dataframe tbody tr th {\n",
              "        vertical-align: top;\n",
              "    }\n",
              "\n",
              "    .dataframe thead th {\n",
              "        text-align: right;\n",
              "    }\n",
              "</style>\n",
              "<table border=\"1\" class=\"dataframe\">\n",
              "  <thead>\n",
              "    <tr style=\"text-align: right;\">\n",
              "      <th></th>\n",
              "      <th>0</th>\n",
              "      <th>0</th>\n",
              "      <th>0</th>\n",
              "      <th>0</th>\n",
              "      <th>0</th>\n",
              "      <th>0</th>\n",
              "      <th>0</th>\n",
              "      <th>0</th>\n",
              "      <th>0</th>\n",
              "      <th>0</th>\n",
              "      <th>...</th>\n",
              "      <th>0</th>\n",
              "      <th>0</th>\n",
              "      <th>0</th>\n",
              "      <th>0</th>\n",
              "      <th>0</th>\n",
              "      <th>0</th>\n",
              "      <th>0</th>\n",
              "      <th>0</th>\n",
              "      <th>0</th>\n",
              "      <th>0</th>\n",
              "    </tr>\n",
              "  </thead>\n",
              "  <tbody>\n",
              "    <tr>\n",
              "      <th>0</th>\n",
              "      <td>0</td>\n",
              "      <td>0</td>\n",
              "      <td>0</td>\n",
              "      <td>143</td>\n",
              "      <td>0</td>\n",
              "      <td>27</td>\n",
              "      <td>37</td>\n",
              "      <td>44</td>\n",
              "      <td>21</td>\n",
              "      <td>19</td>\n",
              "      <td>...</td>\n",
              "      <td>32</td>\n",
              "      <td>210</td>\n",
              "      <td>16</td>\n",
              "      <td>27</td>\n",
              "      <td>20</td>\n",
              "      <td>13</td>\n",
              "      <td>9</td>\n",
              "      <td>7</td>\n",
              "      <td>15</td>\n",
              "      <td>0</td>\n",
              "    </tr>\n",
              "    <tr>\n",
              "      <th>1</th>\n",
              "      <td>1</td>\n",
              "      <td>0</td>\n",
              "      <td>1</td>\n",
              "      <td>155</td>\n",
              "      <td>1</td>\n",
              "      <td>11</td>\n",
              "      <td>37</td>\n",
              "      <td>27</td>\n",
              "      <td>16</td>\n",
              "      <td>8</td>\n",
              "      <td>...</td>\n",
              "      <td>20</td>\n",
              "      <td>231</td>\n",
              "      <td>11</td>\n",
              "      <td>23</td>\n",
              "      <td>19</td>\n",
              "      <td>5</td>\n",
              "      <td>5</td>\n",
              "      <td>16</td>\n",
              "      <td>19</td>\n",
              "      <td>1</td>\n",
              "    </tr>\n",
              "    <tr>\n",
              "      <th>2</th>\n",
              "      <td>2</td>\n",
              "      <td>0</td>\n",
              "      <td>2</td>\n",
              "      <td>251</td>\n",
              "      <td>0</td>\n",
              "      <td>26</td>\n",
              "      <td>27</td>\n",
              "      <td>29</td>\n",
              "      <td>19</td>\n",
              "      <td>31</td>\n",
              "      <td>...</td>\n",
              "      <td>37</td>\n",
              "      <td>145</td>\n",
              "      <td>11</td>\n",
              "      <td>29</td>\n",
              "      <td>19</td>\n",
              "      <td>7</td>\n",
              "      <td>9</td>\n",
              "      <td>17</td>\n",
              "      <td>8</td>\n",
              "      <td>0</td>\n",
              "    </tr>\n",
              "    <tr>\n",
              "      <th>3</th>\n",
              "      <td>3</td>\n",
              "      <td>0</td>\n",
              "      <td>3</td>\n",
              "      <td>259</td>\n",
              "      <td>0</td>\n",
              "      <td>4</td>\n",
              "      <td>54</td>\n",
              "      <td>57</td>\n",
              "      <td>24</td>\n",
              "      <td>32</td>\n",
              "      <td>...</td>\n",
              "      <td>26</td>\n",
              "      <td>163</td>\n",
              "      <td>11</td>\n",
              "      <td>30</td>\n",
              "      <td>25</td>\n",
              "      <td>6</td>\n",
              "      <td>7</td>\n",
              "      <td>17</td>\n",
              "      <td>23</td>\n",
              "      <td>0</td>\n",
              "    </tr>\n",
              "    <tr>\n",
              "      <th>4</th>\n",
              "      <td>4</td>\n",
              "      <td>0</td>\n",
              "      <td>4</td>\n",
              "      <td>263</td>\n",
              "      <td>1</td>\n",
              "      <td>19</td>\n",
              "      <td>38</td>\n",
              "      <td>31</td>\n",
              "      <td>14</td>\n",
              "      <td>20</td>\n",
              "      <td>...</td>\n",
              "      <td>10</td>\n",
              "      <td>154</td>\n",
              "      <td>13</td>\n",
              "      <td>23</td>\n",
              "      <td>20</td>\n",
              "      <td>2</td>\n",
              "      <td>6</td>\n",
              "      <td>13</td>\n",
              "      <td>22</td>\n",
              "      <td>1</td>\n",
              "    </tr>\n",
              "  </tbody>\n",
              "</table>\n",
              "<p>5 rows × 41 columns</p>\n",
              "</div>"
            ]
          },
          "metadata": {}
        }
      ],
      "execution_count": 99,
      "metadata": {
        "collapsed": false,
        "outputHidden": false,
        "inputHidden": false
      }
    },
    {
      "cell_type": "markdown",
      "source": [
        "The last step in preprocessing is to scale our dataset. "
      ],
      "metadata": {}
    },
    {
      "cell_type": "code",
      "source": [
        "#Scaling\n",
        "df_scaled = preprocessing.scale(df2)\n",
        "print(df_scaled[:,5:]) #print first 5 rows of the new numpy matrix"
      ],
      "outputs": [
        {
          "output_type": "stream",
          "name": "stdout",
          "text": [
            "[[ 1.44417822 -0.13558717  0.43892343 ... -1.19881172  0.4498342\n",
            "  -1.        ]\n",
            " [-0.4043699  -0.13558717 -0.9563166  ...  1.12716247  1.37653127\n",
            "   1.        ]\n",
            " [ 1.32864396 -0.9563166  -0.79217071 ...  1.38560405 -1.17188567\n",
            "  -1.        ]\n",
            " ...\n",
            " [-1.67524673 -0.54595188 -0.05351423 ...  1.12716247  0.4498342\n",
            "  -1.        ]\n",
            " [-1.55971247  0.7672152  -0.21766011 ...  0.61027932 -0.47686287\n",
            "   1.        ]\n",
            " [ 0.75097267 -0.9563166  -0.21766011 ...  0.61027932  1.60820554\n",
            "  -1.        ]]\n"
          ]
        }
      ],
      "execution_count": 100,
      "metadata": {
        "collapsed": false,
        "outputHidden": false,
        "inputHidden": false
      }
    },
    {
      "cell_type": "code",
      "source": [
        "#Seperate training and testing data\n",
        "y = df_scaled[:, -1] #labels are the last column in the matrix\n",
        "X = df_scaled[:, :40] #assign feature set\n",
        "X_train, X_test, y_train, y_test = train_test_split(X, y, test_size=0.1, random_state=42)\n",
        "print(\"X train shape: \", X_train.shape)\n",
        "print(\"y train shape: \", y_train.shape)\n",
        "print(\"X test shape: \", X_test.shape)\n",
        "print(\"y test shape: \", y_test.shape)"
      ],
      "outputs": [
        {
          "output_type": "stream",
          "name": "stdout",
          "text": [
            "X train shape:  (8856, 40)\n",
            "y train shape:  (8856,)\n",
            "X test shape:  (984, 40)\n",
            "y test shape:  (984,)\n"
          ]
        }
      ],
      "execution_count": 101,
      "metadata": {
        "collapsed": false,
        "outputHidden": false,
        "inputHidden": false
      }
    },
    {
      "cell_type": "markdown",
      "source": [
        "And with that, we have fully prepared our dataset! Remember that the 41st column - the label vector - represents the result of the game. This is what we're trying to predict. We're now ready to create a neural network in TensorFlow and begin training."
      ],
      "metadata": {}
    },
    {
      "cell_type": "markdown",
      "source": [
        "# Deep Learning - TensorFlow "
      ],
      "metadata": {
        "collapsed": false,
        "outputHidden": false,
        "inputHidden": false
      }
    },
    {
      "cell_type": "code",
      "source": [
        "# Additional imports \n",
        "import tensorflow as tf\n",
        "import keras\n",
        "from keras.models import Sequential\n",
        "from keras.layers import Dense, Activation\n",
        "from sklearn import linear_model\n",
        "from sklearn.metrics import accuracy_score\n",
        "from sklearn import metrics"
      ],
      "outputs": [],
      "execution_count": 121,
      "metadata": {
        "collapsed": false,
        "outputHidden": false,
        "inputHidden": false
      }
    },
    {
      "cell_type": "markdown",
      "source": [
        "In order to use the deep learning library TensorFlow and the API keras, we need to import each. There are also several other libraries and packages that we need in order to create our dense neural netowrk and properly measure its performance. "
      ],
      "metadata": {}
    },
    {
      "cell_type": "code",
      "source": [
        "# We can simply generate a 'sequential' model in Keras which will provide us with a simple, dense, fully connected neural network\n",
        "model = Sequential()\n",
        "model.add(Dense(100, activation='relu', input_dim=40))\n",
        "model.add(Dense(units = 50, activation='relu'))\n",
        "model.add(Dense(units = 50, activation='relu'))\n",
        "model.add(Dense(units = 50, activation='relu'))\n",
        "model.add(Dense(units = 30, activation='relu'))\n",
        "model.add(Dense(units = 1, activation='sigmoid')) \n",
        "model.compile(optimizer='adam',\n",
        "              loss='binary_crossentropy',\n",
        "              metrics=['accuracy'])\n"
      ],
      "outputs": [],
      "execution_count": 122,
      "metadata": {
        "collapsed": false,
        "outputHidden": false,
        "inputHidden": false
      }
    },
    {
      "cell_type": "markdown",
      "source": [
        "We've now defined a six layer neural network with an input dimension of (1x40) which matches the size of our training and testing data. We're using Relu as the activation function, adam as a good optomizer, and binary_crossentropy as our loss function becasue our label vector is binary. (We're predicting the outcome of basketball games so our goal is intrinsically binary). "
      ],
      "metadata": {}
    },
    {
      "cell_type": "code",
      "source": [
        "# Train the model\n",
        "model.fit(X_train, y_train, epochs=10, batch_size=1000)#<-- Given the size of our dataset, we could definitely reduce batch size \n"
      ],
      "outputs": [
        {
          "output_type": "stream",
          "name": "stdout",
          "text": [
            "Epoch 1/10\n",
            "8856/8856 [==============================] - 1s 145us/step - loss: 0.5760 - acc: 0.2241\b\b\b\b\b\b\b\b\b\b\b\b\b\b\b\b\b\b\b\b\b\b\b\b\b\b\b\b\b\b\b\b\b\b\b\b\b\b\b\b\b\b\b\b\b\b\b\b\b\b\b\b\b\b\b\b\b\b\b\b\b\b\b\b\b\b\b\b\b\b\b\b\b\b\b\n",
            "Epoch 2/10\n",
            "8856/8856 [==============================] - 0s 7us/step - loss: -0.0234 - acc: 9.0334e-04\b\b\b\b\b\b\b\b\b\b\b\b\b\b\b\b\b\b\b\b\b\b\b\b\b\b\b\b\b\b\b\b\b\b\b\b\b\b\b\b\b\b\b\b\b\b\b\b\b\b\b\b\b\b\b\b\b\b\b\b\b\b\b\b\b\b\b\b\b\b\b\b\n",
            "Epoch 3/10\n",
            "8856/8856 [==============================] - 0s 6us/step - loss: -1.3058 - acc: 0.0305\b\b\b\b\b\b\b\b\b\b\b\b\b\b\b\b\b\b\b\b\b\b\b\b\b\b\b\b\b\b\b\b\b\b\b\b\b\b\b\b\b\b\b\b\b\b\b\b\b\b\b\b\b\b\b\b\b\b\b\b\b\b\b\b\b\b\b\b\b\b\b\b\b\b\b\b\b\b\n",
            "Epoch 4/10\n",
            "8856/8856 [==============================] - 0s 5us/step - loss: -4.2975 - acc: 0.1599\b\b\b\b\b\b\b\b\b\b\b\b\b\b\b\b\b\b\b\b\b\b\b\b\b\b\b\b\b\b\b\b\b\b\b\b\b\b\b\b\b\b\b\b\b\b\b\b\b\b\b\b\b\b\b\b\b\b\b\b\b\b\b\b\b\b\b\b\b\b\b\b\b\b\b\b\b\b\n",
            "Epoch 5/10\n",
            "8856/8856 [==============================] - 0s 6us/step - loss: -6.4859 - acc: 0.3426\b\b\b\b\b\b\b\b\b\b\b\b\b\b\b\b\b\b\b\b\b\b\b\b\b\b\b\b\b\b\b\b\b\b\b\b\b\b\b\b\b\b\b\b\b\b\b\b\b\b\b\b\b\b\b\b\b\b\b\b\b\b\b\b\b\b\b\b\b\b\b\b\b\b\b\b\b\b\n",
            "Epoch 6/10\n",
            "8856/8856 [==============================] - 0s 6us/step - loss: -7.0843 - acc: 0.4267\b\b\b\b\b\b\b\b\b\b\b\b\b\b\b\b\b\b\b\b\b\b\b\b\b\b\b\b\b\b\b\b\b\b\b\b\b\b\b\b\b\b\b\b\b\b\b\b\b\b\b\b\b\b\b\b\b\b\b\b\b\b\b\b\b\b\b\b\b\b\b\b\b\b\b\b\b\b\n",
            "Epoch 7/10\n",
            "8856/8856 [==============================] - 0s 6us/step - loss: -7.3207 - acc: 0.4502\b\b\b\b\b\b\b\b\b\b\b\b\b\b\b\b\b\b\b\b\b\b\b\b\b\b\b\b\b\b\b\b\b\b\b\b\b\b\b\b\b\b\b\b\b\b\b\b\b\b\b\b\b\b\b\b\b\b\b\b\b\b\b\b\b\b\b\b\b\b\b\b\b\b\b\b\b\b\n",
            "Epoch 8/10\n",
            "8856/8856 [==============================] - 0s 6us/step - loss: -7.4564 - acc: 0.4571\b\b\b\b\b\b\b\b\b\b\b\b\b\b\b\b\b\b\b\b\b\b\b\b\b\b\b\b\b\b\b\b\b\b\b\b\b\b\b\b\b\b\b\b\b\b\b\b\b\b\b\b\b\b\b\b\b\b\b\b\b\b\b\b\b\b\b\b\b\b\b\b\b\b\b\b\b\b\n",
            "Epoch 9/10\n",
            "8856/8856 [==============================] - 0s 6us/step - loss: -7.5638 - acc: 0.4709\b\b\b\b\b\b\b\b\b\b\b\b\b\b\b\b\b\b\b\b\b\b\b\b\b\b\b\b\b\b\b\b\b\b\b\b\b\b\b\b\b\b\b\b\b\b\b\b\b\b\b\b\b\b\b\b\b\b\b\b\b\b\b\b\b\b\b\b\b\b\b\b\b\b\b\b\b\b\n",
            "Epoch 10/10\n",
            "8856/8856 [==============================] - 0s 5us/step - loss: -7.6477 - acc: 0.4743\b\b\b\b\b\b\b\b\b\b\b\b\b\b\b\b\b\b\b\b\b\b\b\b\b\b\b\b\b\b\b\b\b\b\b\b\b\b\b\b\b\b\b\b\b\b\b\b\b\b\b\b\b\b\b\b\b\b\b\b\b\b\b\b\b\b\b\b\b\b\b\b\b\b\b\b\b\b\n"
          ]
        },
        {
          "output_type": "execute_result",
          "execution_count": 123,
          "data": {
            "text/plain": [
              "<keras.callbacks.History at 0x1a3bcb9d68>"
            ]
          },
          "metadata": {}
        }
      ],
      "execution_count": 123,
      "metadata": {
        "collapsed": false,
        "outputHidden": false,
        "inputHidden": false
      }
    },
    {
      "cell_type": "code",
      "source": [
        "# Validation Modle \n",
        "Y1 = y_test\n",
        "y_score1 = model.predict(X_test)\n",
        "fpr1, tpr1, thresholds1 = metrics.roc_curve(Y1, y_score1)\n",
        "area1 = metrics.auc(fpr1, tpr1)\n",
        "area1 = str(round(area1, 3))\n",
        "print(\"ROC Score: \", area1)"
      ],
      "outputs": [
        {
          "output_type": "stream",
          "name": "stdout",
          "text": [
            "ROC Score:  0.997\n"
          ]
        }
      ],
      "execution_count": 124,
      "metadata": {
        "collapsed": false,
        "outputHidden": false,
        "inputHidden": false
      }
    },
    {
      "cell_type": "code",
      "source": [
        "x = range(1)\n",
        "y = range(1)\n",
        "fig = plt.figure(figsize=(9, 9))\n",
        "ax1 = fig.add_subplot(111)\n",
        "\n",
        "plt.plot(fpr1, tpr1, color='darkorange', label=('ROC Curve (area = ' + area1 + ')')) \n",
        "plt.plot([0, 1], [0, 1], color='navy', linestyle='--')\n",
        "plt.legend(loc='upper left');\n",
        "plt.xlabel('False Positive Rate')\n",
        "plt.ylabel('True Positive Rate')\n",
        "plt.title('Validation Set ROC Curve - Six Layer Dense Neural Network')\n",
        "plt.grid()"
      ],
      "outputs": [
        {
          "output_type": "display_data",
          "data": {
            "text/plain": [
              "<Figure size 648x648 with 1 Axes>"
            ],
            "image/png": "[encoded data removed]"
          },
          "metadata": {}
        }
      ],
      "execution_count": 125,
      "metadata": {
        "collapsed": false,
        "outputHidden": false,
        "inputHidden": false
      }
    },
    {
      "cell_type": "markdown",
      "source": [
        "We can see that our ROC Score is 99.7%, which means that our model is doing a very good job of predicting the outcome of each game. However, before we jump to our feet and run to the sports betting websites, we have to realize that the features in our dataset contain data from the very games that we are trying to predict. In other words, we would have to wait through the entire game to collect and aggreagate the data from the game before cleaning it and feeding it to our dense, fully connected network. \n",
        "\nUnless we could do this very efficiently (instantly..) there is little use for this program in terms of actual sports betting. Still, it was a good way to practice using deep learning libraries to make a dense, fully connected neural netowrk and run that model on different operating systems (MacOS and Windows). It's important to remember that althouhg libraries such as TensorFlow have reached a relatively mature stage, the APIs that are often used on top of them such as Keras and TFlearn are constantly being updated and improved. "
      ],
      "metadata": {}
    }
  ],
  "metadata": {
    "kernel_info": {
      "name": "python3"
    },
    "language_info": {
      "name": "python",
      "version": "3.6.5",
      "mimetype": "text/x-python",
      "codemirror_mode": {
        "name": "ipython",
        "version": 3
      },
      "pygments_lexer": "ipython3",
      "nbconvert_exporter": "python",
      "file_extension": ".py"
    },
    "kernelspec": {
      "name": "python3",
      "language": "python",
      "display_name": "Python 3"
    },
    "nteract": {
      "version": "0.12.3"
    }
  },
  "nbformat": 4,
  "nbformat_minor": 4
}