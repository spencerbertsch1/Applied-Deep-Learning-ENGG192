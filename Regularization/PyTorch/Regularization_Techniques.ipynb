{
  "cells": [
    {
      "cell_type": "markdown",
      "source": [
        "# Regularization in Deep Learning\n",
        "\n",
        "-------\n",
        "\n",
        "ENGG 192 <br>\n",
        "Dartmouth College - January 25, 2019 <br>\n",
        "Spencer Bertsch\n",
        "\n",
        "In this notebook I will discuss several techniques for regularization and ways of improving deep learning models. \n",
        "\n",
        "I discuss how random search is a better method for hyperparameter optimization than manual or grid search. I also discuss other methods of regularization such as L1 and L2 regularization, early stopping, and dropout layers. \n",
        "\n",
        "I end by discussing methods for automated hyperparameter tuning (i.e. AutoKeras)\n",
        "\n",
        "In addition to discussing the differences between these techniques and the specific use cases for each, I will apply some of them on a real world example to see how they work on an example dataset. I found a fun dataset for this notebook: the data provides a numerical description of many different types of mushrooms and the binary label vector shows whether or not the mushroom is poisonous. \n",
        "\n",
        "The goal of the model is to approximate f*(x), a model which can use a muchroom's growing location and other characteristics to determine whether or not it's poisonous. I chose this dataset for several reasons, one being its size. Becasue it's relatively small, it will lend itself to quick training and testing. \n",
        "\n",
        "The data source for this notebook is the [Mushroom Classification](https://www.kaggle.com/uciml/mushroom-classification) which is held by Kaggle. \n",
        "\n",
        "Other sources for this notebook are discussed in the \"Deep Learning\" sections below, but some of the larger sources include: \n",
        "\n",
        "[Sung Kim's Github](https://github.com/hunkim) <br>\n",
        "[Stanford PyTorch Github](https://cs230-stanford.github.io/pytorch-getting-started.html)\n",
        "\n",
        "\"Deep Learning\" by Ian Goodfellow and Yoshua Bengio and Aaron Courville. \n",
        "\n",
        "@book{Goodfellow-et-al-2016, <br>\n",
        "    title={Deep Learning}, <br>\n",
        "    author={Ian Goodfellow and Yoshua Bengio and Aaron Courville}, <br>\n",
        "    publisher={MIT Press}, <br>\n",
        "    note={\\url{http://www.deeplearningbook.org}}, <br>\n",
        "    year={2016} <br>\n",
        "}\n",
        "\n\n"
      ],
      "metadata": {
        "collapsed": false,
        "outputHidden": false,
        "inputHidden": false
      }
    },
    {
      "cell_type": "markdown",
      "source": [
        "## Imports"
      ],
      "metadata": {}
    },
    {
      "cell_type": "code",
      "source": [
        "# Deep learning \n",
        "import numpy as np\n",
        "import torch\n",
        "import torch.nn as nn\n",
        "from torch.autograd import Variable #<-- Variable can be thought of as a Torch matrix\n",
        "import torch.nn.functional as F\n",
        "import torch.optim as optim\n",
        "import pandas as pd\n",
        "import time\n",
        "import matplotlib.pyplot as plt\n",
        "from matplotlib.colors import ListedColormap\n",
        "import math\n",
        "\n",
        "#Data cleaning and preprocessing\n",
        "from sklearn.preprocessing import LabelEncoder\n",
        "from sklearn.preprocessing import LabelBinarizer\n",
        "from sklearn import preprocessing\n",
        "from sklearn.model_selection import train_test_split\n",
        "\n",
        "#Model evaluation\n",
        "from sklearn.metrics import confusion_matrix\n",
        "from sklearn.metrics import accuracy_score\n",
        "from sklearn import metrics\n",
        "from sklearn.metrics import f1_score"
      ],
      "outputs": [],
      "execution_count": 368,
      "metadata": {}
    },
    {
      "cell_type": "markdown",
      "source": [
        "## Load the Dataset \n",
        "\nOur dataset exists as a .csv file downloaded form Kaggle. In a more developed project we could implement a more efficient way for data to be loaded into the notebook, but for now we can simply use a handy feature of Pandas called 'read_csv' to import a .csv to a pandas dataframe. "
      ],
      "metadata": {
        "collapsed": false,
        "outputHidden": false,
        "inputHidden": false
      }
    },
    {
      "cell_type": "code",
      "source": [
        "# Import the dataset - load .csv file\n",
        "path = '/Users/spencerbertsch/Desktop/ENGG 192/Regularization/Data/mushrooms.csv'\n",
        "#create a dataframe from the Audit data stored in the .csv file\n",
        "data_raw = pd.read_csv(path)\n",
        "\n",
        "print(\"Shapw of raw dataset:\", (data_raw.shape))\n",
        "print(\"So we can see that we have\" , (data_raw.shape[1] - 1) , \"features and one label vector\")\n",
        "print(\"We can also see that we have\", data_raw.shape[0] , \"rows\")\n",
        "print(\" \")\n",
        "print(\"We can also preview our dataset by observing the top five rows\")\n",
        "data_raw.head(5)\n"
      ],
      "outputs": [
        {
          "output_type": "stream",
          "name": "stdout",
          "text": [
            "Shapw of raw dataset: (8124, 23)\n",
            "So we can see that we have 22 features and one label vector\n",
            "We can also see that we have 8124 rows\n",
            " \n",
            "We can also preview our dataset by observing the top five rows\n"
          ]
        },
        {
          "output_type": "execute_result",
          "execution_count": 369,
          "data": {
            "text/plain": [
              "  class cap-shape cap-surface cap-color bruises odor gill-attachment  \\\n",
              "0     p         x           s         n       t    p               f   \n",
              "1     e         x           s         y       t    a               f   \n",
              "2     e         b           s         w       t    l               f   \n",
              "3     p         x           y         w       t    p               f   \n",
              "4     e         x           s         g       f    n               f   \n",
              "\n",
              "  gill-spacing gill-size gill-color   ...   stalk-surface-below-ring  \\\n",
              "0            c         n          k   ...                          s   \n",
              "1            c         b          k   ...                          s   \n",
              "2            c         b          n   ...                          s   \n",
              "3            c         n          n   ...                          s   \n",
              "4            w         b          k   ...                          s   \n",
              "\n",
              "  stalk-color-above-ring stalk-color-below-ring veil-type veil-color  \\\n",
              "0                      w                      w         p          w   \n",
              "1                      w                      w         p          w   \n",
              "2                      w                      w         p          w   \n",
              "3                      w                      w         p          w   \n",
              "4                      w                      w         p          w   \n",
              "\n",
              "  ring-number ring-type spore-print-color population habitat  \n",
              "0           o         p                 k          s       u  \n",
              "1           o         p                 n          n       g  \n",
              "2           o         p                 n          n       m  \n",
              "3           o         p                 k          s       u  \n",
              "4           o         e                 n          a       g  \n",
              "\n[5 rows x 23 columns]"
            ],
            "text/html": [
              "<div>\n",
              "<style scoped>\n",
              "    .dataframe tbody tr th:only-of-type {\n",
              "        vertical-align: middle;\n",
              "    }\n",
              "\n",
              "    .dataframe tbody tr th {\n",
              "        vertical-align: top;\n",
              "    }\n",
              "\n",
              "    .dataframe thead th {\n",
              "        text-align: right;\n",
              "    }\n",
              "</style>\n",
              "<table border=\"1\" class=\"dataframe\">\n",
              "  <thead>\n",
              "    <tr style=\"text-align: right;\">\n",
              "      <th></th>\n",
              "      <th>class</th>\n",
              "      <th>cap-shape</th>\n",
              "      <th>cap-surface</th>\n",
              "      <th>cap-color</th>\n",
              "      <th>bruises</th>\n",
              "      <th>odor</th>\n",
              "      <th>gill-attachment</th>\n",
              "      <th>gill-spacing</th>\n",
              "      <th>gill-size</th>\n",
              "      <th>gill-color</th>\n",
              "      <th>...</th>\n",
              "      <th>stalk-surface-below-ring</th>\n",
              "      <th>stalk-color-above-ring</th>\n",
              "      <th>stalk-color-below-ring</th>\n",
              "      <th>veil-type</th>\n",
              "      <th>veil-color</th>\n",
              "      <th>ring-number</th>\n",
              "      <th>ring-type</th>\n",
              "      <th>spore-print-color</th>\n",
              "      <th>population</th>\n",
              "      <th>habitat</th>\n",
              "    </tr>\n",
              "  </thead>\n",
              "  <tbody>\n",
              "    <tr>\n",
              "      <th>0</th>\n",
              "      <td>p</td>\n",
              "      <td>x</td>\n",
              "      <td>s</td>\n",
              "      <td>n</td>\n",
              "      <td>t</td>\n",
              "      <td>p</td>\n",
              "      <td>f</td>\n",
              "      <td>c</td>\n",
              "      <td>n</td>\n",
              "      <td>k</td>\n",
              "      <td>...</td>\n",
              "      <td>s</td>\n",
              "      <td>w</td>\n",
              "      <td>w</td>\n",
              "      <td>p</td>\n",
              "      <td>w</td>\n",
              "      <td>o</td>\n",
              "      <td>p</td>\n",
              "      <td>k</td>\n",
              "      <td>s</td>\n",
              "      <td>u</td>\n",
              "    </tr>\n",
              "    <tr>\n",
              "      <th>1</th>\n",
              "      <td>e</td>\n",
              "      <td>x</td>\n",
              "      <td>s</td>\n",
              "      <td>y</td>\n",
              "      <td>t</td>\n",
              "      <td>a</td>\n",
              "      <td>f</td>\n",
              "      <td>c</td>\n",
              "      <td>b</td>\n",
              "      <td>k</td>\n",
              "      <td>...</td>\n",
              "      <td>s</td>\n",
              "      <td>w</td>\n",
              "      <td>w</td>\n",
              "      <td>p</td>\n",
              "      <td>w</td>\n",
              "      <td>o</td>\n",
              "      <td>p</td>\n",
              "      <td>n</td>\n",
              "      <td>n</td>\n",
              "      <td>g</td>\n",
              "    </tr>\n",
              "    <tr>\n",
              "      <th>2</th>\n",
              "      <td>e</td>\n",
              "      <td>b</td>\n",
              "      <td>s</td>\n",
              "      <td>w</td>\n",
              "      <td>t</td>\n",
              "      <td>l</td>\n",
              "      <td>f</td>\n",
              "      <td>c</td>\n",
              "      <td>b</td>\n",
              "      <td>n</td>\n",
              "      <td>...</td>\n",
              "      <td>s</td>\n",
              "      <td>w</td>\n",
              "      <td>w</td>\n",
              "      <td>p</td>\n",
              "      <td>w</td>\n",
              "      <td>o</td>\n",
              "      <td>p</td>\n",
              "      <td>n</td>\n",
              "      <td>n</td>\n",
              "      <td>m</td>\n",
              "    </tr>\n",
              "    <tr>\n",
              "      <th>3</th>\n",
              "      <td>p</td>\n",
              "      <td>x</td>\n",
              "      <td>y</td>\n",
              "      <td>w</td>\n",
              "      <td>t</td>\n",
              "      <td>p</td>\n",
              "      <td>f</td>\n",
              "      <td>c</td>\n",
              "      <td>n</td>\n",
              "      <td>n</td>\n",
              "      <td>...</td>\n",
              "      <td>s</td>\n",
              "      <td>w</td>\n",
              "      <td>w</td>\n",
              "      <td>p</td>\n",
              "      <td>w</td>\n",
              "      <td>o</td>\n",
              "      <td>p</td>\n",
              "      <td>k</td>\n",
              "      <td>s</td>\n",
              "      <td>u</td>\n",
              "    </tr>\n",
              "    <tr>\n",
              "      <th>4</th>\n",
              "      <td>e</td>\n",
              "      <td>x</td>\n",
              "      <td>s</td>\n",
              "      <td>g</td>\n",
              "      <td>f</td>\n",
              "      <td>n</td>\n",
              "      <td>f</td>\n",
              "      <td>w</td>\n",
              "      <td>b</td>\n",
              "      <td>k</td>\n",
              "      <td>...</td>\n",
              "      <td>s</td>\n",
              "      <td>w</td>\n",
              "      <td>w</td>\n",
              "      <td>p</td>\n",
              "      <td>w</td>\n",
              "      <td>o</td>\n",
              "      <td>e</td>\n",
              "      <td>n</td>\n",
              "      <td>a</td>\n",
              "      <td>g</td>\n",
              "    </tr>\n",
              "  </tbody>\n",
              "</table>\n",
              "<p>5 rows × 23 columns</p>\n",
              "</div>"
            ]
          },
          "metadata": {}
        }
      ],
      "execution_count": 369,
      "metadata": {
        "collapsed": false,
        "outputHidden": false,
        "inputHidden": false
      }
    },
    {
      "cell_type": "markdown",
      "source": [
        "## Data Cleaning \n",
        "\nOur data is currently in the form of letters.. Let's clean this up using integer encoding. "
      ],
      "metadata": {}
    },
    {
      "cell_type": "code",
      "source": [
        "#define a function to label encode a 2D (x,y) matrix and return an encoded matrix\n",
        "def int_encode(df):\n",
        "    cols = df.shape[1]\n",
        "    rows = df.shape[0]\n",
        "    original_size = df.shape[1]\n",
        "    \n",
        "    for i in range(0, cols, 1):\n",
        "        values = df.iloc[:,i]\n",
        "        #integer encode each column\n",
        "        label_encoder = LabelEncoder()\n",
        "        integer_encoded = label_encoder.fit_transform(values) #integer encode the i'th column \n",
        "        encoded_vec = pd.DataFrame(integer_encoded) #convert to pd.dataframe\n",
        "        df = pd.concat([df, encoded_vec], axis=1) #concatenate the new, encoded vector onto the original dataframe\n",
        "    \n",
        "    final_df = df.iloc[:,-cols:] #Only keep the last (leftmost) half of the columns representing the encoded data\n",
        "    print(\"Integer encoding successful!\")\n",
        "    print(\"Dataframe shape: \", final_df.shape)\n",
        "    return(final_df)"
      ],
      "outputs": [],
      "execution_count": 370,
      "metadata": {
        "collapsed": false,
        "outputHidden": false,
        "inputHidden": false
      }
    },
    {
      "cell_type": "code",
      "source": [
        "df = int_encode(data_raw)\n",
        "df.head(5) #preview our new dataset"
      ],
      "outputs": [
        {
          "output_type": "stream",
          "name": "stdout",
          "text": [
            "Integer encoding successful!\n",
            "Dataframe shape:  (8124, 23)\n"
          ]
        },
        {
          "output_type": "execute_result",
          "execution_count": 371,
          "data": {
            "text/plain": [
              "   0  0  0  0  0  0  0  0  0  0 ...  0  0  0  0  0  0  0  0  0  0\n",
              "0  1  5  2  4  1  6  1  0  1  4 ...  2  7  7  0  2  1  4  2  3  5\n",
              "1  0  5  2  9  1  0  1  0  0  4 ...  2  7  7  0  2  1  4  3  2  1\n",
              "2  0  0  2  8  1  3  1  0  0  5 ...  2  7  7  0  2  1  4  3  2  3\n",
              "3  1  5  3  8  1  6  1  0  1  5 ...  2  7  7  0  2  1  4  2  3  5\n",
              "4  0  5  2  3  0  5  1  1  0  4 ...  2  7  7  0  2  1  0  3  0  1\n",
              "\n[5 rows x 23 columns]"
            ],
            "text/html": [
              "<div>\n",
              "<style scoped>\n",
              "    .dataframe tbody tr th:only-of-type {\n",
              "        vertical-align: middle;\n",
              "    }\n",
              "\n",
              "    .dataframe tbody tr th {\n",
              "        vertical-align: top;\n",
              "    }\n",
              "\n",
              "    .dataframe thead th {\n",
              "        text-align: right;\n",
              "    }\n",
              "</style>\n",
              "<table border=\"1\" class=\"dataframe\">\n",
              "  <thead>\n",
              "    <tr style=\"text-align: right;\">\n",
              "      <th></th>\n",
              "      <th>0</th>\n",
              "      <th>0</th>\n",
              "      <th>0</th>\n",
              "      <th>0</th>\n",
              "      <th>0</th>\n",
              "      <th>0</th>\n",
              "      <th>0</th>\n",
              "      <th>0</th>\n",
              "      <th>0</th>\n",
              "      <th>0</th>\n",
              "      <th>...</th>\n",
              "      <th>0</th>\n",
              "      <th>0</th>\n",
              "      <th>0</th>\n",
              "      <th>0</th>\n",
              "      <th>0</th>\n",
              "      <th>0</th>\n",
              "      <th>0</th>\n",
              "      <th>0</th>\n",
              "      <th>0</th>\n",
              "      <th>0</th>\n",
              "    </tr>\n",
              "  </thead>\n",
              "  <tbody>\n",
              "    <tr>\n",
              "      <th>0</th>\n",
              "      <td>1</td>\n",
              "      <td>5</td>\n",
              "      <td>2</td>\n",
              "      <td>4</td>\n",
              "      <td>1</td>\n",
              "      <td>6</td>\n",
              "      <td>1</td>\n",
              "      <td>0</td>\n",
              "      <td>1</td>\n",
              "      <td>4</td>\n",
              "      <td>...</td>\n",
              "      <td>2</td>\n",
              "      <td>7</td>\n",
              "      <td>7</td>\n",
              "      <td>0</td>\n",
              "      <td>2</td>\n",
              "      <td>1</td>\n",
              "      <td>4</td>\n",
              "      <td>2</td>\n",
              "      <td>3</td>\n",
              "      <td>5</td>\n",
              "    </tr>\n",
              "    <tr>\n",
              "      <th>1</th>\n",
              "      <td>0</td>\n",
              "      <td>5</td>\n",
              "      <td>2</td>\n",
              "      <td>9</td>\n",
              "      <td>1</td>\n",
              "      <td>0</td>\n",
              "      <td>1</td>\n",
              "      <td>0</td>\n",
              "      <td>0</td>\n",
              "      <td>4</td>\n",
              "      <td>...</td>\n",
              "      <td>2</td>\n",
              "      <td>7</td>\n",
              "      <td>7</td>\n",
              "      <td>0</td>\n",
              "      <td>2</td>\n",
              "      <td>1</td>\n",
              "      <td>4</td>\n",
              "      <td>3</td>\n",
              "      <td>2</td>\n",
              "      <td>1</td>\n",
              "    </tr>\n",
              "    <tr>\n",
              "      <th>2</th>\n",
              "      <td>0</td>\n",
              "      <td>0</td>\n",
              "      <td>2</td>\n",
              "      <td>8</td>\n",
              "      <td>1</td>\n",
              "      <td>3</td>\n",
              "      <td>1</td>\n",
              "      <td>0</td>\n",
              "      <td>0</td>\n",
              "      <td>5</td>\n",
              "      <td>...</td>\n",
              "      <td>2</td>\n",
              "      <td>7</td>\n",
              "      <td>7</td>\n",
              "      <td>0</td>\n",
              "      <td>2</td>\n",
              "      <td>1</td>\n",
              "      <td>4</td>\n",
              "      <td>3</td>\n",
              "      <td>2</td>\n",
              "      <td>3</td>\n",
              "    </tr>\n",
              "    <tr>\n",
              "      <th>3</th>\n",
              "      <td>1</td>\n",
              "      <td>5</td>\n",
              "      <td>3</td>\n",
              "      <td>8</td>\n",
              "      <td>1</td>\n",
              "      <td>6</td>\n",
              "      <td>1</td>\n",
              "      <td>0</td>\n",
              "      <td>1</td>\n",
              "      <td>5</td>\n",
              "      <td>...</td>\n",
              "      <td>2</td>\n",
              "      <td>7</td>\n",
              "      <td>7</td>\n",
              "      <td>0</td>\n",
              "      <td>2</td>\n",
              "      <td>1</td>\n",
              "      <td>4</td>\n",
              "      <td>2</td>\n",
              "      <td>3</td>\n",
              "      <td>5</td>\n",
              "    </tr>\n",
              "    <tr>\n",
              "      <th>4</th>\n",
              "      <td>0</td>\n",
              "      <td>5</td>\n",
              "      <td>2</td>\n",
              "      <td>3</td>\n",
              "      <td>0</td>\n",
              "      <td>5</td>\n",
              "      <td>1</td>\n",
              "      <td>1</td>\n",
              "      <td>0</td>\n",
              "      <td>4</td>\n",
              "      <td>...</td>\n",
              "      <td>2</td>\n",
              "      <td>7</td>\n",
              "      <td>7</td>\n",
              "      <td>0</td>\n",
              "      <td>2</td>\n",
              "      <td>1</td>\n",
              "      <td>0</td>\n",
              "      <td>3</td>\n",
              "      <td>0</td>\n",
              "      <td>1</td>\n",
              "    </tr>\n",
              "  </tbody>\n",
              "</table>\n",
              "<p>5 rows × 23 columns</p>\n",
              "</div>"
            ]
          },
          "metadata": {}
        }
      ],
      "execution_count": 371,
      "metadata": {
        "collapsed": false,
        "outputHidden": false,
        "inputHidden": false
      }
    },
    {
      "cell_type": "markdown",
      "source": [
        "## Scaling\n",
        "\nWe can now scale our dataset. Becasue our data is already numerical, there's no need for any type of encoding. This means we can jump right in and use a handy Sklearn scaling package to scale our training data. "
      ],
      "metadata": {}
    },
    {
      "cell_type": "code",
      "source": [
        "#Scaling #<-- Comment out for now \n",
        "# df_scaled = preprocessing.scale(df2)\n",
        "# print(df_scaled[:,5:]) #print first 5 rows of the new numpy matrix"
      ],
      "outputs": [],
      "execution_count": 372,
      "metadata": {
        "collapsed": false,
        "outputHidden": false,
        "inputHidden": false
      }
    },
    {
      "cell_type": "markdown",
      "source": [
        "## Split our dataset\n",
        "\nAnd with that, we're ready to split our data into a training and testing set. It would also be helpful to hold out a piece of the data for validation, but becasue we're just focusing on regularization processes, we don't need a validation section. "
      ],
      "metadata": {
        "collapsed": false,
        "outputHidden": false,
        "inputHidden": false
      }
    },
    {
      "cell_type": "code",
      "source": [
        "#Seperate training and testing data\n",
        "y = df.iloc[:, 0] #labels are the first column in the matrix\n",
        "X = df.iloc[:, -22:] #assign feature set\n",
        "X_train, X_test, y_train, y_test = train_test_split(X, y, test_size=0.30, random_state=42)\n",
        "print(\"X train shape: \", X_train.shape)\n",
        "print(\"y train shape: \", y_train.shape)\n",
        "print(\"X test shape: \", X_test.shape)\n",
        "print(\"y test shape: \", y_test.shape) \n",
        "\n",
        "#Later when we convert to torch tensors, we will need our data to exist as numpy arrays, not pandas arrays \n",
        "X_train = X_train.values\n",
        "X_test = X_test.values\n",
        "y_train = y_train.values \n",
        "y_test = y_test.values"
      ],
      "outputs": [
        {
          "output_type": "stream",
          "name": "stdout",
          "text": [
            "X train shape:  (5686, 22)\n",
            "y train shape:  (5686,)\n",
            "X test shape:  (2438, 22)\n",
            "y test shape:  (2438,)\n"
          ]
        }
      ],
      "execution_count": 373,
      "metadata": {}
    },
    {
      "cell_type": "markdown",
      "source": [
        "# Keras - TF Backend\n",
        "\n",
        "------\n",
        "\nIn addition to using PyTorch (which I prefer becasue it gives you more control over feedofrward networks than using the Keras API on a ;ibrary such as TensorFlow or Theano), I will use Keras with a TensorFlow backend simply as a benchmark. Although there's less control using Keras and Tensorflow, it's very easy to set up a quick feedforward neural network using the "
      ],
      "metadata": {}
    },
    {
      "cell_type": "code",
      "source": [
        "# Additional imports \n",
        "import tensorflow as tf\n",
        "import keras\n",
        "from keras.models import Sequential\n",
        "from keras.layers import Dense, Activation\n",
        "from sklearn import linear_model\n",
        "from sklearn.metrics import accuracy_score\n",
        "from sklearn.metrics import f1_score\n",
        "from sklearn.metrics import mean_squared_error\n",
        "from sklearn import metrics"
      ],
      "outputs": [],
      "execution_count": 374,
      "metadata": {
        "collapsed": false,
        "outputHidden": false,
        "inputHidden": false
      }
    },
    {
      "cell_type": "code",
      "source": [
        "# We can simply generate a 'sequential' model in Keras which will provide us with a simple, dense, fully connected neural network\n",
        "model = Sequential()\n",
        "model.add(Dense(10, activation='relu', input_dim=22))\n",
        "model.add(Dense(units = 10, activation='relu'))\n",
        "model.add(Dense(units = 10, activation='relu'))\n",
        "model.add(Dense(units = 10, activation='relu'))\n",
        "model.add(Dense(units = 10, activation='relu'))\n",
        "model.add(Dense(units = 1, activation='sigmoid')) \n",
        "model.compile(optimizer='adam',\n",
        "              loss='binary_crossentropy',\n",
        "              metrics=['accuracy'])"
      ],
      "outputs": [],
      "execution_count": 375,
      "metadata": {
        "collapsed": false,
        "outputHidden": false,
        "inputHidden": false
      }
    },
    {
      "cell_type": "code",
      "source": [
        "# Train the model\n",
        "model.fit(X_train, y_train, epochs=10, batch_size=100)#<-- Given the size of our dataset, we could definitely reduce batch size "
      ],
      "outputs": [
        {
          "output_type": "stream",
          "name": "stdout",
          "text": [
            "Epoch 1/10\n",
            "5686/5686 [==============================] - 1s 210us/step - loss: 0.7308 - acc: 0.4993\b\b\b\b\b\b\b\b\b\b\b\b\b\b\b\b\b\b\b\b\b\b\b\b\b\b\b\b\b\b\b\b\b\b\b\b\b\b\b\b\b\b\b\b\b\b\b\b\b\b\b\b\b\b\b\b\b\b\b\b\b\b\b\b\b\b\b\b\b\b\b\b\b\b\b\b\b\n",
            "Epoch 2/10\n",
            "5686/5686 [==============================] - 0s 21us/step - loss: 0.5840 - acc: 0.6885\b\b\b\b\b\b\b\b\b\b\b\b\b\b\b\b\b\b\b\b\b\b\b\b\b\b\b\b\b\b\b\b\b\b\b\b\b\b\b\b\b\b\b\b\b\b\b\b\b\b\b\b\b\b\b\b\b\b\b\b\b\b\b\b\b\b\b\b\b\b\b\b\b\b\b\b\n",
            "Epoch 3/10\n",
            "5686/5686 [==============================] - 0s 21us/step - loss: 0.4327 - acc: 0.8240\b\b\b\b\b\b\b\b\b\b\b\b\b\b\b\b\b\b\b\b\b\b\b\b\b\b\b\b\b\b\b\b\b\b\b\b\b\b\b\b\b\b\b\b\b\b\b\b\b\b\b\b\b\b\b\b\b\b\b\b\b\b\b\b\b\b\b\b\b\b\b\b\b\b\b\b\n",
            "Epoch 4/10\n",
            "5686/5686 [==============================] - 0s 23us/step - loss: 0.3048 - acc: 0.8845\b\b\b\b\b\b\b\b\b\b\b\b\b\b\b\b\b\b\b\b\b\b\b\b\b\b\b\b\b\b\b\b\b\b\b\b\b\b\b\b\b\b\b\b\b\b\b\b\b\b\b\b\b\b\b\b\b\b\b\b\b\b\b\b\b\b\b\b\b\b\b\b\b\b\b\b\n",
            "Epoch 5/10\n",
            "5686/5686 [==============================] - 0s 20us/step - loss: 0.2569 - acc: 0.9091\b\b\b\b\b\b\b\b\b\b\b\b\b\b\b\b\b\b\b\b\b\b\b\b\b\b\b\b\b\b\b\b\b\b\b\b\b\b\b\b\b\b\b\b\b\b\b\b\b\b\b\b\b\b\b\b\b\b\b\b\b\b\b\b\b\b\b\b\b\b\b\b\b\b\b\b\n",
            "Epoch 6/10\n",
            "5686/5686 [==============================] - 0s 19us/step - loss: 0.2331 - acc: 0.9223\b\b\b\b\b\b\b\b\b\b\b\b\b\b\b\b\b\b\b\b\b\b\b\b\b\b\b\b\b\b\b\b\b\b\b\b\b\b\b\b\b\b\b\b\b\b\b\b\b\b\b\b\b\b\b\b\b\b\b\b\b\b\b\b\b\b\b\b\b\b\b\b\b\b\b\b\n",
            "Epoch 7/10\n",
            "5686/5686 [==============================] - 0s 21us/step - loss: 0.2151 - acc: 0.9274\b\b\b\b\b\b\b\b\b\b\b\b\b\b\b\b\b\b\b\b\b\b\b\b\b\b\b\b\b\b\b\b\b\b\b\b\b\b\b\b\b\b\b\b\b\b\b\b\b\b\b\b\b\b\b\b\b\b\b\b\b\b\b\b\b\b\b\b\b\b\b\b\b\b\b\b\n",
            "Epoch 8/10\n",
            "5686/5686 [==============================] - 0s 18us/step - loss: 0.1994 - acc: 0.9323\b\b\b\b\b\b\b\b\b\b\b\b\b\b\b\b\b\b\b\b\b\b\b\b\b\b\b\b\b\b\b\b\b\b\b\b\b\b\b\b\b\b\b\b\b\b\b\b\b\b\b\b\b\b\b\b\b\b\b\b\b\b\b\b\b\b\b\b\b\b\b\b\b\b\b\b\n",
            "Epoch 9/10\n",
            "5686/5686 [==============================] - 0s 22us/step - loss: 0.1791 - acc: 0.9377\b\b\b\b\b\b\b\b\b\b\b\b\b\b\b\b\b\b\b\b\b\b\b\b\b\b\b\b\b\b\b\b\b\b\b\b\b\b\b\b\b\b\b\b\b\b\b\b\b\b\b\b\b\b\b\b\b\b\b\b\b\b\b\b\b\b\b\b\b\b\b\b\b\b\b\b\n",
            "Epoch 10/10\n",
            "5686/5686 [==============================] - 0s 21us/step - loss: 0.1596 - acc: 0.9435\b\b\b\b\b\b\b\b\b\b\b\b\b\b\b\b\b\b\b\b\b\b\b\b\b\b\b\b\b\b\b\b\b\b\b\b\b\b\b\b\b\b\b\b\b\b\b\b\b\b\b\b\b\b\b\b\b\b\b\b\b\b\b\b\b\b\b\b\b\b\b\b\b\b\b\b\n"
          ]
        },
        {
          "output_type": "execute_result",
          "execution_count": 376,
          "data": {
            "text/plain": [
              "<keras.callbacks.History at 0x1a3250d400>"
            ]
          },
          "metadata": {}
        }
      ],
      "execution_count": 376,
      "metadata": {
        "collapsed": false,
        "outputHidden": false,
        "inputHidden": false
      }
    },
    {
      "cell_type": "code",
      "source": [
        "y_pred = model.predict(X_test)\n",
        "y_pred = np.where(y_pred>0.5,1,0) #Convert to binary\n",
        "y_true = y_test\n",
        "Acc = accuracy_score(y_true, y_pred)\n",
        "F1 = f1_score(y_true, y_pred)\n",
        "print(\"Accuracy: \", Acc)\n",
        "print(\"F1 Score: \", F1)"
      ],
      "outputs": [
        {
          "output_type": "stream",
          "name": "stdout",
          "text": [
            "Accuracy:  0.9392945036915504\n",
            "F1 Score:  0.9356521739130435\n"
          ]
        }
      ],
      "execution_count": 377,
      "metadata": {
        "collapsed": false,
        "outputHidden": false,
        "inputHidden": false
      }
    },
    {
      "cell_type": "markdown",
      "source": [
        "Interesting to note here that with a simple \"Sequential\" net implemented in Keras, we can quickly achieve a ~93% accuracy and a ~93% F1 score. If we let the network train for more epochs, then we can easily push our performance even higher. However, our goal for this notebook is not to achieve the best model performance, but rather to develop an applied understanding of regularization - both practical and theoretical."
      ],
      "metadata": {}
    },
    {
      "cell_type": "markdown",
      "source": [
        "# Deep Learning - PyTorch\n",
        "\n",
        "------\n",
        "\n",
        "### SOURCES\n",
        "\n",
        "When learning how to construct feedforward networks (or any type of netowrk) in PyTorch, I referenced [Sung Kim's Github](https://github.com/hunkim). There, Sung Kim has layed out a repository called [PyTorch Zero To All](https://github.com/hunkim/PyTorchZeroToAll) in which he includes slide decks and code explaining how to build neural netowrks using pytorch from first principles. This was my main resource - in addition to Sung Kim's [Youtube Series](https://www.youtube.com/watch?v=SKq-pmkekTk) - which I used for the next section of this notebook. \n",
        "\n",
        "Another source which I have started to use when constructing networks in PyTorch is [a Stanford Github](https://cs230-stanford.github.io/pytorch-getting-started.html) account which outlines best practices for developing clean, well functioning netowrks in PyTorch. \n",
        "\n",
        "Other important sources include: \n",
        "\n",
        "\"Deep Learning\" by Ian Goodfellow and Yoshua Bengio and Aaron Courville. \n",
        "\n",
        "@book{Goodfellow-et-al-2016, <br>\n",
        "    title={Deep Learning}, <br>\n",
        "    author={Ian Goodfellow and Yoshua Bengio and Aaron Courville}, <br>\n",
        "    publisher={MIT Press}, <br>\n",
        "    note={\\url{http://www.deeplearningbook.org}}, <br>\n",
        "    year={2016} <br>\n",
        "}"
      ],
      "metadata": {
        "collapsed": false,
        "outputHidden": false,
        "inputHidden": false
      }
    },
    {
      "cell_type": "code",
      "source": [
        "#Define Network\n",
        "\n",
        "class Mushroom_Net(nn.Module):\n",
        "    def __init__(self):\n",
        "        \"\"\"\n",
        "        \"super can be used to refer to parent classes without naming them explicitly\"\n",
        "        \n",
        "        We can now construct the network using torch.nn.linear layers \n",
        "        \"\"\"\n",
        "        super().__init__()\n",
        "        self.l1 = torch.nn.Linear(22, 12)\n",
        "        #self.dropout = nn.Dropout(0.4) #<-- Overfitting could pose a problem due to small dataset size\n",
        "        self.l2 = torch.nn.Linear(12, 12)\n",
        "        #self.dropout = nn.Dropout(0.4) #<-- Overfitting could pose a problem due to small dataset size\n",
        "        self.l3 = torch.nn.Linear(12, 1)\n",
        "\n",
        "        self.sigmoid = torch.nn.Sigmoid()\n",
        "        \n",
        "        \n",
        "    def forward(self, x):\n",
        "        \"\"\"\n",
        "        The forward function takes in the input data and uses the sigmoid activation function to generate the output\n",
        "        \"\"\"\n",
        "        \n",
        "        out1 = self.sigmoid(self.l1(x))\n",
        "        out2 = self.sigmoid(self.l2(out1))\n",
        "        y_pred = self.sigmoid(self.l3(out2))\n",
        "        return y_pred"
      ],
      "outputs": [],
      "execution_count": 378,
      "metadata": {
        "collapsed": false,
        "outputHidden": false,
        "inputHidden": false
      }
    },
    {
      "cell_type": "code",
      "source": [
        "# Define Learning Parameters\n",
        "\n",
        "model = Mushroom_Net() #<-- Use the model created above \n",
        "#We use Binary Cross Entropy Loss as our loss function \n",
        "loss_fn = nn.BCELoss()\n",
        "#Adam is a very strong genric optimizer, so we can use it here\n",
        "optimizer = optim.Adam(model.parameters(), lr=1e-3)\n",
        "\n",
        "training_epochs = 50\n",
        "minibatch_size = 25"
      ],
      "outputs": [],
      "execution_count": 379,
      "metadata": {
        "collapsed": false,
        "outputHidden": false,
        "inputHidden": false
      }
    },
    {
      "cell_type": "code",
      "source": [
        "t0 = time.clock() #define t0 so we can measure training time for different network variations\n",
        "\n",
        "for i in range(training_epochs):\n",
        "    if ((i%10) == 0):\n",
        "        print(\"Epoch\", i, \"/\", training_epochs) #Print our progress\n",
        "    \n",
        "    for batch_ind in range(4):\n",
        "        # wrap the data in variables\n",
        "        minibatch_state_var = Variable(torch.Tensor(X_train))\n",
        "        minibatch_label_var = Variable(torch.Tensor(y_train))\n",
        "        \n",
        "        # forward pass\n",
        "        y_pred = model(minibatch_state_var)\n",
        "        \n",
        "        # loss is MSE - defined above \n",
        "        # compute loss as the difference between the prediction and the true label \n",
        "        loss = loss_fn(y_pred, minibatch_label_var)\n",
        "\n",
        "        # now that the forward pass is done, we need to reset all gradients\n",
        "        optimizer.zero_grad()\n",
        "        \n",
        "        # backwards pass\n",
        "        loss.backward()\n",
        "        \n",
        "        # step the optimizer - update the weights\n",
        "        optimizer.step()\n",
        "        \n",
        "print(\"- - - - - - - - - - - - - - - - - - - - - - - - - - - - - - - - - - - - \")     \n",
        "print(\"TRAINING COMPLETE\")\n",
        "print(\"Number of Epochs Trained: \", training_epochs)\n",
        "print(\"With minibatch size: \", minibatch_size)\n",
        "print(\"Training time: \", time.clock()) \n",
        "print(\"- - - - - - - - - - - - - - - - - - - - - - - - - - - - - - - - - - - - \")"
      ],
      "outputs": [
        {
          "output_type": "stream",
          "name": "stdout",
          "text": [
            "Epoch 0 / 50\n",
            "Epoch 10 / 50\n",
            "Epoch 20 / 50\n",
            "Epoch 30 / 50\n",
            "Epoch 40 / 50\n",
            "- - - - - - - - - - - - - - - - - - - - - - - - - - - - - - - - - - - - \n",
            "TRAINING COMPLETE\n",
            "Number of Epochs Trained:  50\n",
            "With minibatch size:  25\n",
            "Training time:  335.781649\n",
            "- - - - - - - - - - - - - - - - - - - - - - - - - - - - - - - - - - - - \n"
          ]
        },
        {
          "output_type": "stream",
          "name": "stderr",
          "text": [
            "/anaconda3/lib/python3.6/site-packages/torch/nn/functional.py:2016: UserWarning: Using a target size (torch.Size([5686])) that is different to the input size (torch.Size([5686, 1])) is deprecated. Please ensure they have the same size.\n",
            "  \"Please ensure they have the same size.\".format(target.size(), input.size()))\n"
          ]
        }
      ],
      "execution_count": 380,
      "metadata": {
        "collapsed": false,
        "outputHidden": false,
        "inputHidden": false
      }
    },
    {
      "cell_type": "markdown",
      "source": [
        "## Model Evaluation\n",
        "\nWe can now use Accuracy and F1 Score to evaluate how our PyTorch model performed. "
      ],
      "metadata": {}
    },
    {
      "cell_type": "code",
      "source": [
        "#Lets see how we did! \n",
        "#Test the trained model with our holdout data \"X_test\"\n",
        "input_1 = Variable(torch.Tensor(X_test)) # \"variable\" simply creates a new tenosr\n",
        "input_1\n",
        "\n",
        "#Make predictions on the inputs \n",
        "pred_1 = model(input_1)\n",
        "\n",
        "pred_1_np = pred_1.detach().numpy()\n",
        "y_pred = np.where(pred_1_np>0.5,1,0) #Convert to binary\n",
        "y_true = y_test\n",
        "A = accuracy_score(y_true, y_pred)\n",
        "F1 = f1_score(y_true, y_pred)\n",
        "print(\"Accuracy:\", A)\n",
        "print(\"F1 Score:\", F1)"
      ],
      "outputs": [
        {
          "output_type": "stream",
          "name": "stdout",
          "text": [
            "Accuracy: 0.8556193601312552\n",
            "F1 Score: 0.8376383763837637\n"
          ]
        }
      ],
      "execution_count": 381,
      "metadata": {
        "collapsed": false,
        "outputHidden": false,
        "inputHidden": false
      }
    },
    {
      "cell_type": "markdown",
      "source": [
        "Again, similar to the model generated in Keras using the TF library, we were able to quickly achieve pretty good model performance. "
      ],
      "metadata": {}
    },
    {
      "cell_type": "markdown",
      "source": [
        "# Regularization\n",
        "\n",
        "------\n",
        "\n",
        "There is no generally accepted way to introduce specific regularization techniques to boost model performance or limit the negative effects of overfitting other than simple experementation and testing. James Bergstra and Yoshua Bengio outline this well in their 2012 paper, [Random Search for Hyper-Parameter Optimization](http://www.jmlr.org/papers/volume13/bergstra12a/bergstra12a.pdf) in which they discuess optimization of several hyperpapameters used in deep learning such as network topology (number of layers and neurons per layer) and learning rate. They conclude it's best to use a random search method as opposed to grid search or manual search when finding the correct hyperparameters which will yeild the best results from a network. \n",
        "\n",
        "There are many parameters in deep learning which can be optimized through use of regularization: the number of layers in the network, the numbner of neurons in each layer, the activation, the penalty or loss, the learning rate, the momentum value, etc. All of these values change the way that the network learns from the data, so by varying them we can change the model used to approximate the target function. \n",
        "\n",
        "Becasue we know that random search for hyperparameter optimization works better than grid search, we can create a certain range $R1$ and choose a certain number $n$ of samples which will be chosen from a random uniform distrobution between the upper and lower bounds of $R$. Similarly, we will have another hyperparameter chosen within a certain range $P1$ with its own upper and lower bounds. In the case below, let's choose $n = 10$. \n",
        "\nNote that all elements of $R1$ and $P1$ are real numbers. "
      ],
      "metadata": {
        "collapsed": false,
        "outputHidden": false,
        "inputHidden": false
      }
    },
    {
      "cell_type": "code",
      "source": [
        "epoch_start = 10\n",
        "epoch_end = 100\n",
        "minibatch_start = 10\n",
        "minibatch_end = 75\n",
        "\n",
        "#Number of samples in each distrobution \n",
        "n = 10\n",
        "\n",
        "#Generate 5 samples from each distrobution\n",
        "Rand_E = np.random.uniform(epoch_start,epoch_end,n)\n",
        "Rand_M = np.random.uniform(minibatch_start,minibatch_end,n)\n",
        "\n",
        "Rand_E = np.around(Rand_E)\n",
        "Rand_M = np.around(Rand_M)\n",
        "\n",
        "#convert from float.64 to integer\n",
        "Rand_E = Rand_E.astype(int)\n",
        "Rand_M = Rand_M.astype(int)\n"
      ],
      "outputs": [],
      "execution_count": 388,
      "metadata": {
        "collapsed": false,
        "outputHidden": false,
        "inputHidden": false
      }
    },
    {
      "cell_type": "code",
      "source": [
        "x = range(1)\n",
        "y = range(1)\n",
        "fig = plt.figure(figsize=(5, 4))\n",
        "ax1 = fig.add_subplot(111)\n",
        "\n",
        "plt.scatter(Rand_E, Rand_M, color='blue', s=100, label=('{(r(i), p(i))}')) \n",
        "plt.legend(loc='upper left', fontsize=12);\n",
        "plt.xlabel('False Positive Rate', fontsize=20)\n",
        "plt.ylabel('True Positive Rate', fontsize=20)\n",
        "plt.title('Random Search for n=10 Trials', fontsize=16)\n",
        "plt.grid()"
      ],
      "outputs": [
        {
          "output_type": "display_data",
          "data": {
            "text/plain": [
              "<Figure size 360x288 with 1 Axes>"
            ],
            "image/png": "[encoded data removed]"
          },
          "metadata": {}
        }
      ],
      "execution_count": 389,
      "metadata": {
        "collapsed": false,
        "outputHidden": false,
        "inputHidden": false
      }
    },
    {
      "cell_type": "markdown",
      "source": [
        "Now we have our randomly distributed values for our first two hyperparameters, so we can use our chosen values $\\lambda1 \\epsilon[r(i), r(i+1), ... r(i+10)]$. Similarly, for the other hyperparameter being randomly varied and tested, we have $\\lambda2 \\epsilon[p(i), p(i+1), ... p(i+10)]$. Each of the ten pairs $[(r(i), p(i)), (r(i+1), p(i+1)), ... (r(n), p(n))]$ will be used to train the network, and the resulting model will then be tested using several metrics, and subsequently retrained. (See page 284 in [Random Search for Hyper-Parameter Optimization](http://www.jmlr.org/papers/volume13/bergstra12a/bergstra12a.pdf)). "
      ],
      "metadata": {}
    },
    {
      "cell_type": "code",
      "source": [
        "n = Rand_E.shape[0] #Get length of hyperparameter distrobution vector \n",
        "\n",
        "accuracy_save = np.zeros(n)\n",
        "F1_save = np.zeros(n)\n",
        "\n",
        "for i in range(n): \n",
        "    print(\"------------------- n = \", i, \"-------------------\")\n",
        "    print(\"Epochs: \", Rand_E[i], \"with minibatch size: \", Rand_M[i])\n",
        "    \n",
        "    #Define Model\n",
        "    model = Mushroom_Net() #<-- Use the model created above \n",
        "    \n",
        "    #Declare new parameters \n",
        "    training_epochs = Rand_E[i]\n",
        "    minibatch_size = Rand_M[i]\n",
        "\n",
        "    #Train Network \n",
        "    for j in range(training_epochs):\n",
        "        for batch_ind in range(10):\n",
        "            # wrap the data in variables\n",
        "            minibatch_state_var = Variable(torch.Tensor(X_train))\n",
        "            minibatch_label_var = Variable(torch.Tensor(y_train))\n",
        "            # forward pass\n",
        "            y_pred = model(minibatch_state_var)\n",
        "            # compute loss as the difference between the prediction and the true label \n",
        "            loss = loss_fn(y_pred, minibatch_label_var)\n",
        "            # now that the forward pass is done, we need to reset all gradients\n",
        "            optimizer.zero_grad()\n",
        "            # backwards pass\n",
        "            loss.backward()\n",
        "            # step the optimizer - update the weights\n",
        "            optimizer.step()\n",
        "\n",
        "    \n",
        "    #Evaluate model performance\n",
        "    input_1 = Variable(torch.Tensor(X_test))\n",
        "    pred_1 = model(input_1)\n",
        "    pred_1_np = pred_1.detach().numpy()\n",
        "    y_pred = np.where(pred_1_np>0.5,1,0) #Convert to binary\n",
        "    y_true = y_test\n",
        "    A = accuracy_score(y_true, y_pred)\n",
        "    F1 = f1_score(y_true, y_pred)\n",
        "    \n",
        "    #Store evaluation information outside loop \n",
        "    accuracy_save[i] = A\n",
        "    F1_save[i] = F1\n",
        "  "
      ],
      "outputs": [
        {
          "output_type": "stream",
          "name": "stdout",
          "text": [
            "------------------- n =  0 -------------------\n",
            "Epochs:  39 with minibatch size:  47\n",
            "------------------- n =  1 -------------------\n",
            "Epochs:  35 with minibatch size:  71\n",
            "------------------- n =  2 -------------------\n",
            "Epochs:  32 with minibatch size:  58\n",
            "------------------- n =  3 -------------------\n",
            "Epochs:  20 with minibatch size:  16\n",
            "------------------- n =  4 -------------------\n",
            "Epochs:  13 with minibatch size:  23\n",
            "------------------- n =  5 -------------------\n",
            "Epochs:  86 with minibatch size:  56\n",
            "------------------- n =  6 -------------------\n",
            "Epochs:  50 with minibatch size:  65\n",
            "------------------- n =  7 -------------------\n",
            "Epochs:  48 with minibatch size:  37\n",
            "------------------- n =  8 -------------------\n",
            "Epochs:  94 with minibatch size:  36\n",
            "------------------- n =  9 -------------------\n",
            "Epochs:  46 with minibatch size:  35\n"
          ]
        },
        {
          "output_type": "stream",
          "name": "stderr",
          "text": [
            "/anaconda3/lib/python3.6/site-packages/torch/nn/functional.py:2016: UserWarning: Using a target size (torch.Size([5686])) that is different to the input size (torch.Size([5686, 1])) is deprecated. Please ensure they have the same size.\n",
            "  # DeprecationWarning is ignored by default\n",
            "/anaconda3/lib/python3.6/site-packages/sklearn/metrics/classification.py:1135: UndefinedMetricWarning: F-score is ill-defined and being set to 0.0 due to no predicted samples.\n",
            "  'precision', 'predicted', average, warn_for)\n"
          ]
        }
      ],
      "execution_count": 399,
      "metadata": {
        "collapsed": false,
        "outputHidden": false,
        "inputHidden": false
      }
    },
    {
      "cell_type": "code",
      "source": [
        "print(accuracy_save)\n",
        "print(F1_save)"
      ],
      "outputs": [
        {
          "output_type": "stream",
          "name": "stdout",
          "text": [
            "[0.51558655 0.48441345 0.48441345 0.51558655 0.48441345 0.51558655\n",
            " 0.49589828 0.51558655 0.55086136 0.51558655]\n",
            "[0.         0.65266648 0.65266648 0.         0.65266648 0.\n",
            " 0.65525947 0.         0.66988242 0.        ]\n"
          ]
        }
      ],
      "execution_count": 400,
      "metadata": {
        "collapsed": false,
        "outputHidden": false,
        "inputHidden": false
      }
    },
    {
      "cell_type": "markdown",
      "source": [
        "We can now find the point $(r(i), p(i))$ which maximizes both accuracy and F1 score. If training time was'nt a problem, we could also increase $n$ in order to make the random search more fine. \n",
        "\nThis process could not only be repreated with other parameters, but after finding the right \"zone\" of highest performance for a certain parameter, we could shrink the upper and lower bounds of the distrobution around that section and run the optomizer again. By repeating this process once or twice, we are making sure we've thouroughly explored the area which yeilds the best model output. "
      ],
      "metadata": {}
    },
    {
      "cell_type": "markdown",
      "source": [
        "# Other Regularization Techniques\n",
        "\n",
        "------\n",
        "\n",
        "There are many other regularization techniques used to boost model performance and limit the negative effects of overfitting. Some of the more popular techniques are: \n",
        "\n",
        "1. L1 Regularization\n",
        "2. L2 Regularization\n",
        "3. Dropout Layers\n",
        "4. Early Stopping\n",
        "\n",
        "## L1 Regularization \n",
        "Both L1 and L2 regularization are methods used to prevent overfitting your model to the dataset. There is only a small difference between the two: the penalty term in the regression. The L1 regularization technique uses \"Lasso Regression\" [Towards Data Science](https://towardsdatascience.com/l1-and-l2-regularization-methods-ce25e7fc831c) which \"adds absolute value of magnitude of coefficient as penalty term to the loss function.\" This simply means that instead of squaring the error in the loss function, we take the absolutie value of the difference. \n",
        "\n\n",
        "## L2 Regularization \n",
        "Similar to L1 regularization, L2 regularization is used to prevent overfitting the model to the data. The L2 model uses Ridge Regression, which \"adds squared magnitude of coefficient as penalty term to the loss function.\"[Towards Data Science](https://towardsdatascience.com/l1-and-l2-regularization-methods-ce25e7fc831c) This means that, as opposed to L1 regularization, here we square the difference to calculate the error in the loss function. \n",
        "\n",
        "## Dropout Layers \n",
        "Often used in conjunction with techniques such as L1 and L2 regularization, using dropout layers is a regularization technique used to prevent overfitting. Dropout layers force certain layers to \"drop\" neurons randomly with some set probabilit $p$ so that the network cannot rely on any certain set of neurons for success. Dropout layers force the network to continually re-learn from the training data; when the training is finished the the network will be used for prediction, the dropout layers are deactivated. \n",
        "\n",
        "## Early Stopping\n",
        "Early stopping can be used when too many epochs have been used to train a network, and the model is fitting the data too closely. Similar to the above regularization methods, early stopping can be used to mitigate the negative effects of overfitting. By plotting the training and testing accuracy and loss, we can determine when the testing loss stops decreasing, and actually brgins increasing. We take the minimum testing loss value, determine the epoch which corresponds to that value, and redefine and retrain the network using that many epochs. \n",
        "\n\n",
        "Sources: <br>\n",
        "[L1 and L2 Regularization Methods - Towards Data Science](https://towardsdatascience.com/l1-and-l2-regularization-methods-ce25e7fc831c)\n",
        "\n",
        "[Leonardo Araujo Santos - GitBooks.io](https://leonardoaraujosantos.gitbooks.io/artificial-inteligence/content/dropout_layer.html)\n",
        "\n",
        "[Machine Learning Mastery](https://machinelearningmastery.com/how-to-stop-training-deep-neural-networks-at-the-right-time-using-early-stopping/)\n"
      ],
      "metadata": {}
    },
    {
      "cell_type": "markdown",
      "source": [
        "# Closing Remarks: AutoKeras\n",
        "\n",
        "-----\n",
        "\n",
        "Lastly, it's important to note that Google's AutoML has recently been recreated by Keras in an open source version of a similar software called [AutoKeras.](https://autokeras.com/) \n",
        "\n",
        "AutoKeras is a way of finding the best network parameters for the data system at hand without needing to do any parameter optimization using manual search, grid search, random search, or otherwise. \n",
        "\nAs we start to see more of these libraries released for free, it will be important to stay up to date on the best libraries which will provide a \"stress free\" parameter optimization and regularization experience. Still, it's always good to know the best practices for manual regularization both for benchmarking your own models and so that you can be sure libraries such as AutoKeras are performing better than simpler methods such as those discussed above. "
      ],
      "metadata": {
        "collapsed": false,
        "outputHidden": false,
        "inputHidden": false
      }
    },
    {
      "cell_type": "markdown",
      "source": [],
      "metadata": {}
    }
  ],
  "metadata": {
    "kernel_info": {
      "name": "python3"
    },
    "language_info": {
      "name": "python",
      "version": "3.6.5",
      "mimetype": "text/x-python",
      "codemirror_mode": {
        "name": "ipython",
        "version": 3
      },
      "pygments_lexer": "ipython3",
      "nbconvert_exporter": "python",
      "file_extension": ".py"
    },
    "kernelspec": {
      "name": "python3",
      "language": "python",
      "display_name": "Python 3"
    },
    "nteract": {
      "version": "0.12.3"
    }
  },
  "nbformat": 4,
  "nbformat_minor": 4
}