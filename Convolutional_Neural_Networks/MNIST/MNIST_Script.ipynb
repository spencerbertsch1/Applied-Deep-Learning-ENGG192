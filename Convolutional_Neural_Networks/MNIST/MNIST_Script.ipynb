{
  "cells": [
    {
      "cell_type": "markdown",
      "source": [
        "# Convolutional Neural Networks\n",
        "\n",
        "## And some practical techniques for training them \n",
        "\n",
        "Spencer Bertsch <br>\n",
        "ENGG 192 <br>\n",
        "Winter 2019 \n",
        "\n",
        "In this notebook I explore convolutional networks and use a shallow CNN to classify the MNIST dataset with a ~99% accuracy. The MNIST dataset is a popular dataset used in deep learning becasue it's a comparitively easy problem to solve. Larger, richer datasets with more classes, such as the dataset used to train Alex Net in 2012, are much more difficult to learn and require both more convolutional layers, and a much more robust machine to use for training. \n",
        "\n",
        "### Data Source: \n",
        "\n",
        "I simply called the mnist.load_data() function to load the MNIST dataset in this notebook. Becasue they're used routinely in image recognition scripts, the MNIST and Iris datasets often come with libraries such as Keras. This makes them easy to work with, and easy to load. The next notebook will use a much larger dataset of color images. \n",
        "\n",
        "### Main Sources: \n",
        "\n",
        "[Keras-model-training-history](https://machinelearningmastery.com/display-deep-learning-model-training-history-in-keras/)\n",
        "\n",
        "[Keras Team - Github](https://github.com/keras-team/keras/blob/master/examples/mnist_cnn.py)\n"
      ],
      "metadata": {
        "collapsed": false,
        "outputHidden": false,
        "inputHidden": false
      }
    },
    {
      "cell_type": "markdown",
      "source": [
        "## Imports\n"
      ],
      "metadata": {}
    },
    {
      "cell_type": "code",
      "source": [
        "from __future__ import print_function\n",
        "import keras\n",
        "from keras.datasets import mnist\n",
        "from keras.models import Sequential\n",
        "from keras.layers import Dense, Dropout, Flatten\n",
        "from keras.layers import Conv2D, MaxPooling2D\n",
        "from keras import backend as K\n",
        "import matplotlib.pyplot as plt \n",
        "import time"
      ],
      "outputs": [],
      "execution_count": 71,
      "metadata": {
        "collapsed": false,
        "outputHidden": false,
        "inputHidden": false
      }
    },
    {
      "cell_type": "markdown",
      "source": [
        "## Load and shape the dataset "
      ],
      "metadata": {
        "collapsed": false,
        "outputHidden": false,
        "inputHidden": false
      }
    },
    {
      "cell_type": "code",
      "source": [
        "#Load the dataset \n",
        "(x_train, y_train), (x_test, y_test) = mnist.load_data()\n",
        "\n\n",
        "data1 = x_train #for visualization\n",
        "data2 = y_train #for visualization\n",
        "\n",
        "\"\"\"\n",
        "Our images are greyscale, which means they are two dimensional. We have many image samples, however, so our dataset is three dimensional. \n",
        "Our neural netowrk, specifically the 'conv2d' layer, is expecting a four dimensional input for - image samples, [rows, cols] for each image, and the RGB pixel \n",
        "value for each pixel in the image. Becasue our images are greyscale, we have a single value for the RGB: intensity (between 0 and 1). Therefor, we need to \n",
        "reshape our data to include an additional (1) which will tell our neural network that the image has only one value for each pixel representing intensity. \n",
        "We can achieve this by using the below if-else statement. \n",
        "\"\"\"\n",
        "\n",
        "if K.image_data_format() == 'channels_first': #<-- checking the Keras backend to determine whether K.image_data_format() is \"channels_last\" or \"channels_first\"\n",
        "    x_train = x_train.reshape(x_train.shape[0], 1, img_rows, img_cols)\n",
        "    x_test = x_test.reshape(x_test.shape[0], 1, img_rows, img_cols)\n",
        "    input_shape = (1, img_rows, img_cols)\n",
        "else:\n",
        "    x_train = x_train.reshape(x_train.shape[0], img_rows, img_cols, 1)\n",
        "    x_test = x_test.reshape(x_test.shape[0], img_rows, img_cols, 1)\n",
        "    input_shape = (img_rows, img_cols, 1)\n",
        "\n",
        "    \n",
        "print(\"Shape of original data: \", data1.shape)\n",
        "print(\"Shape of reshaped data: \", x_train.shape)"
      ],
      "outputs": [
        {
          "output_type": "stream",
          "name": "stdout",
          "text": [
            "Shape of original data:  (60000, 28, 28)\n",
            "Shape of reshaped data:  (60000, 28, 28, 1)\n"
          ]
        }
      ],
      "execution_count": 61,
      "metadata": {}
    },
    {
      "cell_type": "code",
      "source": [
        "print(\"LABEL: \", data2[1])\n",
        "fig = plt.imshow(data1[1, :, :], cmap = plt.cm.plasma);"
      ],
      "outputs": [
        {
          "output_type": "stream",
          "name": "stdout",
          "text": [
            "LABEL:  0\n"
          ]
        },
        {
          "output_type": "display_data",
          "data": {
            "text/plain": [
              "<Figure size 432x288 with 1 Axes>"
            ],
            "image/png": "[encoded data removed]"
          },
          "metadata": {}
        }
      ],
      "execution_count": 62,
      "metadata": {
        "collapsed": false,
        "outputHidden": false,
        "inputHidden": false
      }
    },
    {
      "cell_type": "code",
      "source": [
        "for i in range(10):\n",
        "    plt.subplot(2,5,1+i)\n",
        "    plt.title('Label: %d'%data2[i])\n",
        "    fig = plt.imshow(data1[i, :, :], cmap = plt.cm.plasma);\n",
        "    fig.axes.get_xaxis().set_visible(False)\n",
        "    fig.axes.get_yaxis().set_visible(False)\n",
        "    \n",
        "plt.tight_layout()"
      ],
      "outputs": [
        {
          "output_type": "display_data",
          "data": {
            "text/plain": [
              "<Figure size 432x288 with 10 Axes>"
            ],
            "image/png": "[encoded data removed]"
          },
          "metadata": {}
        }
      ],
      "execution_count": 88,
      "metadata": {
        "collapsed": false,
        "outputHidden": false,
        "inputHidden": false
      }
    },
    {
      "cell_type": "code",
      "source": [
        "x_train = x_train.astype('float32')\n",
        "x_test = x_test.astype('float32')\n",
        "x_train /= 255\n",
        "x_test /= 255\n",
        "\n",
        "print('x_train shape:', x_train.shape)\n",
        "print(\"We can see that we have\",x_train.shape[0], 'train samples')\n",
        "print(\"And we have\", x_test.shape[0], 'test samples')\n",
        "print(\"And each image is\", x_test.shape[1], \"by\", x_test.shape[2] ,'pixels')"
      ],
      "outputs": [
        {
          "output_type": "stream",
          "name": "stdout",
          "text": [
            "x_train shape: (60000, 28, 28, 1)\n",
            "We can see that we have 60000 train samples\n",
            "And we have 10000 test samples\n",
            "And each image is 28 by 28 pixels\n",
            "Time taken: 0.2001349925994873 seconds\n"
          ]
        }
      ],
      "execution_count": 80,
      "metadata": {
        "collapsed": false,
        "outputHidden": false,
        "inputHidden": false
      }
    },
    {
      "cell_type": "markdown",
      "source": [
        "## Define network parameters "
      ],
      "metadata": {}
    },
    {
      "cell_type": "code",
      "source": [
        "batch_size = 128\n",
        "num_classes = 10\n",
        "epochs = 12"
      ],
      "outputs": [],
      "execution_count": 65,
      "metadata": {
        "collapsed": false,
        "outputHidden": false,
        "inputHidden": false
      }
    },
    {
      "cell_type": "markdown",
      "source": [
        "## Encode our data \n",
        "\nUse the keras.utils to one-hot encode the label vector. Remember that we are simply recognizing handwritten, single digit numbers so we can tell keras.utils that we want an \\[n x 10] matrix with each row containing only one 1 value and the rest 0 values. "
      ],
      "metadata": {}
    },
    {
      "cell_type": "code",
      "source": [
        "# input image dimensions\n",
        "img_rows, img_cols = 28, 28\n",
        "\n",
        "# convert class vectors to binary class matrices\n",
        "y_train = keras.utils.to_categorical(y_train, num_classes)\n",
        "y_test = keras.utils.to_categorical(y_test, num_classes)\n"
      ],
      "outputs": [],
      "execution_count": 66,
      "metadata": {
        "collapsed": false,
        "outputHidden": false,
        "inputHidden": false
      }
    },
    {
      "cell_type": "markdown",
      "source": [
        "# Define the network \n",
        "\n",
        "--------\n",
        "\nWe're now ready to define the network with several convolutional, pooling, and dropout layers, ending with a dense, fully connected layer with a softmax activation function which will yeild our final classification. "
      ],
      "metadata": {}
    },
    {
      "cell_type": "code",
      "source": [
        "#Keras models are generally 'sequential' so we can simply stack layers in tensor flow using the keras API \n",
        "model = Sequential()\n",
        "\n",
        "\"\"\"\n",
        "Our images are greyscale, which means they're 2D, so we can simply use Conv2D and run 4x4 convolutions over the image\n",
        "Convolutions with different sizes - 3x3 or 5x5 - would also work, but as we increase the size of the convolutions, we \n",
        "will begin to lose information for each pass\n",
        "\n",
        "We use RELU as the activation function. Ever since \"Alex Net\" was published in 2012, RELu has been the activation function\n",
        "of choice for convolutional layers in image recognition nets. \n",
        "\"\"\"\n",
        "\n\n",
        "model.add(Conv2D(32, kernel_size=(4, 4),\n",
        "                 activation='relu',\n",
        "                 input_shape=input_shape))\n",
        "#Convolutional layer \n",
        "model.add(Conv2D(64, (3, 3), activation='relu'))\n",
        "#Max pooling to reduce number of parameter in the model - could have used average pooling \n",
        "model.add(MaxPooling2D(pool_size=(2, 2)))\n",
        "#Dropout to prevent overfitting \n",
        "model.add(Dropout(0.25))\n",
        "\n",
        "\"\"\"\n",
        "Now that we're done with the convolutional layers and pooling layers to reduce the parameters of the model, we need to flatten the data\n",
        "and train a dense, fully connected layer on the end of the previous pooling layer. We also use a dropout layer with p=0.5\n",
        "to prevent overfitting, and finally a last output layer with 10 classes representing each of the classes we are predicting. \n",
        "\n",
        "We use the softmax activation function so that we can simply take the maximum value from one of the ten \n",
        "\"\"\"\n",
        "\n",
        "#Flatten our model so we can feed the results into a dense neural network \n",
        "model.add(Flatten())\n",
        "#Add dense layer to the flattened output of the last max pooling layer with RELU activation \n",
        "model.add(Dense(128, activation='relu'))\n",
        "#Last dropout layer to prevent overfitting (p = 0.5)\n",
        "model.add(Dropout(0.5))\n",
        "#Final dense layer with softmax activation function to predict which of the ten digits is being tested or trained \n",
        "model.add(Dense(num_classes, activation='softmax')) #<-- We have 10 classes to predict\n",
        "\n",
        "\"\"\"\n",
        "Note that there are several hyperparameters noted in this network, and in the above code block where we define \n",
        "external network parameters. No explicit hyperparameter optimization was performed here, but by optimizing parameters\n",
        "such as the p value for the dropout layers, the type of pooling and the pooling size, the kernal size for the convolutional \n",
        "layers, the activatin functions (RELU is probably the best to use here, but still good to experiment), and other parameters\n",
        "such as the overall topology of the network itself would lead to improved network performance. \n",
        "\"\"\""
      ],
      "outputs": [],
      "execution_count": 67,
      "metadata": {
        "collapsed": false,
        "outputHidden": false,
        "inputHidden": false
      }
    },
    {
      "cell_type": "markdown",
      "source": [
        "## Compile our model"
      ],
      "metadata": {}
    },
    {
      "cell_type": "code",
      "source": [
        "#Here we use categorical_crossentropy as the loss function because we have 10 categories we are trying to predict\n",
        "model.compile(loss=keras.losses.categorical_crossentropy,\n",
        "              optimizer=keras.optimizers.Adadelta(),\n",
        "              metrics=['accuracy'])"
      ],
      "outputs": [],
      "execution_count": 68,
      "metadata": {
        "collapsed": false,
        "outputHidden": false,
        "inputHidden": false
      }
    },
    {
      "cell_type": "markdown",
      "source": [
        "## Fit the model to the data"
      ],
      "metadata": {}
    },
    {
      "cell_type": "code",
      "source": [
        "#Measure the time it takes to train our model \n",
        "tic = time.time()\n",
        "\n",
        "history = model.fit(x_train, y_train,\n",
        "          batch_size=batch_size,\n",
        "          epochs=epochs,\n",
        "          verbose=1,\n",
        "          validation_data=(x_test, y_test))\n",
        "score = model.evaluate(x_test, y_test, verbose=0)\n",
        "\ntoc = time.time()"
      ],
      "outputs": [
        {
          "output_type": "stream",
          "name": "stdout",
          "text": [
            "Train on 60000 samples, validate on 10000 samples\n",
            "Epoch 1/12\n",
            "60000/60000 [==============================] - 103s 2ms/step - loss: 0.2566 - acc: 0.9210 - val_loss: 0.0530 - val_acc: 0.9812\b\b\b\b\b\b\b\b\b\b\b\b\b\b\b\b\b\b\b\b\b\b\b\b\b\b\b\b\b\b\b\b\b\b\b\b\b\b\b\b\b\b\b\b\n",
            "Epoch 2/12\n",
            "60000/60000 [==============================] - 76s 1ms/step - loss: 0.0846 - acc: 0.9746 - val_loss: 0.0403 - val_acc: 0.9866\b\b\b\b\b\b\b\b\b\b\b\b\b\b\b\b\b\b\b\b\b\b\b\b\b\b\b\b\b\b\b\b\b\b\b\b\b\b\b\b\b\b\b\b\b\n",
            "Epoch 3/12\n",
            "60000/60000 [==============================] - 377s 6ms/step - loss: 0.0653 - acc: 0.9803 - val_loss: 0.0365 - val_acc: 0.9871\b\b\b\b\b\b\b\b\b\b\b\b\b\b\b\b\b\b\b\b\b\b\b\b\b\b\b\b\b\b\b\b\b\b\b\b\b\b\b\b\b\b\b\b\b\b\n",
            "Epoch 4/12\n",
            "60000/60000 [==============================] - 140s 2ms/step - loss: 0.0515 - acc: 0.9842 - val_loss: 0.0296 - val_acc: 0.9905\b\b\b\b\b\b\b\b\b\b\b\b\b\b\b\b\b\b\b\b\b\b\b\b\b\b\b\b\b\b\b\b\b\b\b\b\b\b\b\b\b\b\b\b\b\b\n",
            "Epoch 5/12\n",
            "60000/60000 [==============================] - 103s 2ms/step - loss: 0.0469 - acc: 0.9862 - val_loss: 0.0320 - val_acc: 0.9883\b\b\b\b\b\b\b\b\b\b\b\b\b\b\b\b\b\b\b\b\b\b\b\b\b\b\b\b\b\b\b\b\b\b\b\b\b\b\b\b\b\b\b\b\n",
            "Epoch 6/12\n",
            "60000/60000 [==============================] - 242s 4ms/step - loss: 0.0423 - acc: 0.9875 - val_loss: 0.0260 - val_acc: 0.9905\b\b\b\b\b\b\b\b\b\b\b\b\b\b\b\b\b\b\b\b\b\b\b\b\b\b\b\b\b\b\b\b\b\b\b\b\b\b\b\b\b\b\b\b\n",
            "Epoch 7/12\n",
            "60000/60000 [==============================] - 103s 2ms/step - loss: 0.0381 - acc: 0.9888 - val_loss: 0.0294 - val_acc: 0.9898\b\b\b\b\b\b\b\b\b\b\b\b\b\b\b\b\b\b\b\b\b\b\b\b\b\b\b\b\b\b\b\b\b\b\b\b\b\b\b\b\b\b\b\b\n",
            "Epoch 8/12\n",
            "60000/60000 [==============================] - 443s 7ms/step - loss: 0.0337 - acc: 0.9892 - val_loss: 0.0267 - val_acc: 0.9899\b\b\b\b\b\b\b\b\b\b\b\b\b\b\b\b\b\b\b\b\b\b\b\b\b\b\b\b\b\b\b\b\b\b\b\b\b\b\b\b\b\b\b\b\n",
            "Epoch 9/12\n",
            "60000/60000 [==============================] - 228s 4ms/step - loss: 0.0316 - acc: 0.9899 - val_loss: 0.0253 - val_acc: 0.9912\b\b\b\b\b\b\b\b\b\b\b\b\b\b\b\b\b\b\b\b\b\b\b\b\b\b\b\b\b\b\b\b\b\b\b\b\b\b\b\b\b\b\b\b\b\b\n",
            "Epoch 10/12\n",
            "60000/60000 [==============================] - 103s 2ms/step - loss: 0.0288 - acc: 0.9913 - val_loss: 0.0247 - val_acc: 0.9916\b\b\b\b\b\b\b\b\b\b\b\b\b\b\b\b\b\b\b\b\b\b\b\b\b\b\b\b\b\b\b\b\b\b\b\b\b\b\b\b\b\b\b\b\n",
            "Epoch 11/12\n",
            "60000/60000 [==============================] - 102s 2ms/step - loss: 0.0289 - acc: 0.9914 - val_loss: 0.0252 - val_acc: 0.9919\b\b\b\b\b\b\b\b\b\b\b\b\b\b\b\b\b\b\b\b\b\b\b\b\b\b\b\b\b\b\b\b\b\b\b\b\b\b\b\b\b\b\b\b\n",
            "Epoch 12/12\n",
            "60000/60000 [==============================] - 100s 2ms/step - loss: 0.0266 - acc: 0.9917 - val_loss: 0.0232 - val_acc: 0.9931\b\b\b\b\b\b\b\b\b\b\b\b\b\b\b\b\b\b\b\b\b\b\b\b\b\b\b\b\b\b\b\b\b\b\b\b\b\b\b\b\b\b\b\b\n",
            "Test loss: 0.02323429549929424\n",
            "Test accuracy: 0.9931\n"
          ]
        }
      ],
      "execution_count": 69,
      "metadata": {
        "collapsed": false,
        "outputHidden": false,
        "inputHidden": false
      }
    },
    {
      "cell_type": "code",
      "source": [
        "# We can use the 'time' package to measure how long it takes to train the model\n",
        "print('Time taken to train on ', epochs, 'epochs is:', (toc - tic), 'seconds')"
      ],
      "outputs": [
        {
          "output_type": "stream",
          "name": "stdout",
          "text": [
            "Time taken to train on  12 epochs is: 0.2001349925994873 seconds\n"
          ]
        }
      ],
      "execution_count": 85,
      "metadata": {
        "collapsed": false,
        "outputHidden": false,
        "inputHidden": false
      }
    },
    {
      "cell_type": "markdown",
      "source": [
        "# Model Evaluation\n",
        "\n--------"
      ],
      "metadata": {}
    },
    {
      "cell_type": "code",
      "source": [
        "print('Test loss:', score[0])\n",
        "print('Test accuracy:', score[1])"
      ],
      "outputs": [
        {
          "output_type": "stream",
          "name": "stdout",
          "text": [
            "Test loss: 0.02323429549929424\n",
            "Test accuracy: 0.9931\n"
          ]
        }
      ],
      "execution_count": 84,
      "metadata": {
        "collapsed": false,
        "outputHidden": false,
        "inputHidden": false
      }
    },
    {
      "cell_type": "code",
      "source": [
        "#Plot Accuracy\n",
        "fig = plt.figure(figsize=(16, 7))\n",
        "ax1 = fig.add_subplot(121)\n",
        "\n",
        "plt.plot(history.history['acc'], color='darkorange', label = 'train')\n",
        "plt.plot(history.history['val_acc'], color='navy', label = 'test')\n",
        "plt.legend(loc='upper right');\n",
        "plt.xlabel('Epoch', fontsize = 18)\n",
        "plt.ylabel('Accuracy', fontsize = 18)\n",
        "plt.title('Model Accuracy', fontsize = 18)\n",
        "plt.grid()\n",
        "\n\n",
        "#Plot Loss\n",
        "#fig = plt.figure(figsize=(7, 7))\n",
        "ax1 = fig.add_subplot(122)\n",
        "\n",
        "plt.plot(history.history['loss'], color='darkorange', label = 'train')\n",
        "plt.plot(history.history['val_loss'], color='navy', label = 'test')\n",
        "plt.legend(loc='upper right');\n",
        "plt.xlabel('Epoch', fontsize = 18)\n",
        "plt.ylabel('Loss', fontsize = 18)\n",
        "plt.title('Model Loss', fontsize = 18)\n",
        "plt.grid()\n"
      ],
      "outputs": [
        {
          "output_type": "display_data",
          "data": {
            "text/plain": [
              "<Figure size 1152x504 with 2 Axes>"
            ],
            "image/png": "[encoded data removed]"
          },
          "metadata": {}
        }
      ],
      "execution_count": 70,
      "metadata": {
        "collapsed": false,
        "outputHidden": false,
        "inputHidden": false
      }
    },
    {
      "cell_type": "markdown",
      "source": [
        "## Closing remarks\n",
        "\n",
        "As we can see above, the accuracy achieved on our test set after 12 epochs is 99.31%. This tells us that our network is doing a good job of learning the different spatial aspects of each of the ten hand written numerals. Subsequently, as expected we can see the training and testing loss decresing as we march through our 12 epochs, showing that the neurons in the network are needing to update their weights less and less each time. \n",
        "\n",
        "This dataset is a common one for any introduction to convolutional neural networks prpoject for several reasons - one being that this problem (regognizing hand written digits) is a solved problem. For years now, researchers, professors, and students have been able to achieve very high accuracy on this dataset even when training on a CPU such as the one in my laptop. Another reason this dataset is so popular is that the images are greyscale, not color. That means that each pixel is \\[1x1] instead of \\[1x3] for the RGB values in a color pixel. This makes the convolutions less complicated because they can sweep across the image in 2D, and still effectively achieve a very close approximation to f*(x), the target function. \n",
        "\nIn the next notebook, I will use a dataset of color historology images and a deeper convolutional neural network to classify the images with or without the presence of an IDC, or invasive ductal carcinoma. I will also discuss and explore methods for improving model performance for CNNs when working with limited training data including mirroring, scaling, translation, and illumination. "
      ],
      "metadata": {
        "collapsed": false,
        "outputHidden": false,
        "inputHidden": false
      }
    }
  ],
  "metadata": {
    "kernel_info": {
      "name": "python3"
    },
    "language_info": {
      "name": "python",
      "version": "3.6.5",
      "mimetype": "text/x-python",
      "codemirror_mode": {
        "name": "ipython",
        "version": 3
      },
      "pygments_lexer": "ipython3",
      "nbconvert_exporter": "python",
      "file_extension": ".py"
    },
    "kernelspec": {
      "name": "python3",
      "language": "python",
      "display_name": "Python 3"
    },
    "nteract": {
      "version": "0.12.3"
    }
  },
  "nbformat": 4,
  "nbformat_minor": 4
}