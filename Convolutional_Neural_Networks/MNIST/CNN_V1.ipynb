{
  "cells": [
    {
      "cell_type": "markdown",
      "source": [
        "# Convolutional Neural Networks\n",
        "\n",
        "## And some practical techniques for training them \n",
        "\n",
        "Spencer Bertsch <br>\n",
        "ENGG 192 - Dartmouth College <br>\n",
        "Winter 2019 \n",
        "\n",
        "In this notebook I will discuss what differentiates convolutional neural networks from dense, fully connected networks and why they are so effective at solving certain tasks. In our discussion, we will use MNIST as our dataset. \n",
        "\n\n\n",
        "### Sources\n",
        "\n",
        "[Keras-model-training-history](https://machinelearningmastery.com/display-deep-learning-model-training-history-in-keras/)\n",
        "\n",
        "[Keras Team - Github](https://github.com/keras-team/keras/blob/master/examples/mnist_cnn.py)\n"
      ],
      "metadata": {
        "collapsed": false,
        "outputHidden": false,
        "inputHidden": false
      }
    },
    {
      "cell_type": "markdown",
      "source": [
        "## Imports\n"
      ],
      "metadata": {}
    },
    {
      "cell_type": "code",
      "source": [
        "from __future__ import print_function\n",
        "import keras\n",
        "from keras.datasets import mnist\n",
        "from keras.models import Sequential\n",
        "from keras.layers import Dense, Dropout, Flatten\n",
        "from keras.layers import Conv2D, MaxPooling2D\n",
        "from keras import backend as K\n",
        "import matplotlib.pyplot as plt "
      ],
      "outputs": [],
      "execution_count": 17,
      "metadata": {
        "collapsed": false,
        "outputHidden": false,
        "inputHidden": false
      }
    },
    {
      "cell_type": "markdown",
      "source": [
        "## Load and shape the dataset "
      ],
      "metadata": {
        "collapsed": false,
        "outputHidden": false,
        "inputHidden": false
      }
    },
    {
      "cell_type": "code",
      "source": [
        "#Load the dataset \n",
        "(x_train, y_train), (x_test, y_test) = mnist.load_data()\n",
        "\n\n",
        "data1 = x_train #for visualization\n",
        "data2 = y_train #for visualization\n",
        "\n",
        "\"\"\"\n",
        "Our images are greyscale, which means they are two dimensional. We have many image samples, however, so our dataset is three dimensional. \n",
        "Our neural netowrk, specifically the 'conv2d' layer, is expecting a four dimensional input for - image samples, [rows, cols] for each image, and the RGB pixel \n",
        "value for each pixel in the image. Becasue our images are greyscale, we have a single value for the RGB: intensity (between 0 and 1). Therefor, we need to \n",
        "reshape our data to include an additional (1) which will tell our neural network that the image has only one value for each pixel representing intensity. \n",
        "We can achieve this by using the below if-else statement. \n",
        "\"\"\"\n",
        "\n",
        "if K.image_data_format() == 'channels_first': #<-- checking the Keras backend to determine whether K.image_data_format() is \"channels_last\" or \"channels_first\"\n",
        "    x_train = x_train.reshape(x_train.shape[0], 1, img_rows, img_cols)\n",
        "    x_test = x_test.reshape(x_test.shape[0], 1, img_rows, img_cols)\n",
        "    input_shape = (1, img_rows, img_cols)\n",
        "else:\n",
        "    x_train = x_train.reshape(x_train.shape[0], img_rows, img_cols, 1)\n",
        "    x_test = x_test.reshape(x_test.shape[0], img_rows, img_cols, 1)\n",
        "    input_shape = (img_rows, img_cols, 1)\n",
        "\n",
        "    \n",
        "print(\"Shape of original data: \", data1.shape)\n",
        "print(\"Shape of reshaped data: \", x_train.shape)"
      ],
      "outputs": [
        {
          "output_type": "stream",
          "name": "stdout",
          "text": [
            "Shape of original data:  (60000, 28, 28)\n",
            "Shape of reshaped data:  (60000, 28, 28, 1)\n"
          ]
        }
      ],
      "execution_count": 18,
      "metadata": {}
    },
    {
      "cell_type": "code",
      "source": [
        "print(\"LABEL: \", data2[1])\n",
        "fig = plt.imshow(data1[1, :, :], cmap = plt.cm.plasma);"
      ],
      "outputs": [
        {
          "output_type": "stream",
          "name": "stdout",
          "text": [
            "LABEL:  0\n"
          ]
        },
        {
          "output_type": "display_data",
          "data": {
            "text/plain": [
              "<Figure size 432x288 with 1 Axes>"
            ],
            "image/png": "[encoded data removed]"
          },
          "metadata": {}
        }
      ],
      "execution_count": 19,
      "metadata": {
        "collapsed": false,
        "outputHidden": false,
        "inputHidden": false
      }
    },
    {
      "cell_type": "code",
      "source": [
        "for i in range(10):\n",
        "    plt.subplot(2,5,1+i)\n",
        "    fig = plt.imshow(data1[i, :, :], cmap = plt.cm.plasma);\n",
        "    fig.axes.get_xaxis().set_visible(False)\n",
        "    fig.axes.get_yaxis().set_visible(False)\n",
        "    \n",
        "plt.tight_layout()"
      ],
      "outputs": [
        {
          "output_type": "display_data",
          "data": {
            "text/plain": [
              "<Figure size 432x288 with 10 Axes>"
            ],
            "image/png": "[encoded data removed]"
          },
          "metadata": {}
        }
      ],
      "execution_count": 20,
      "metadata": {
        "collapsed": false,
        "outputHidden": false,
        "inputHidden": false
      }
    },
    {
      "cell_type": "code",
      "source": [
        "x_train = x_train.astype('float32')\n",
        "x_test = x_test.astype('float32')\n",
        "x_train /= 255\n",
        "x_test /= 255\n",
        "\n",
        "print('x_train shape:', x_train.shape)\n",
        "print(\"We can see that we have\",x_train.shape[0], 'train samples')\n",
        "print(\"And we have\", x_test.shape[0], 'test samples')\n",
        "print(\"And each image is\", x_test.shape[1], \"by\", x_test.shape[2] ,'pixels')"
      ],
      "outputs": [
        {
          "output_type": "stream",
          "name": "stdout",
          "text": [
            "x_train shape: (60000, 28, 28, 1)\n",
            "We can see that we have 60000 train samples\n",
            "And we have 10000 test samples\n",
            "And each image is 28 by 28 pixels\n"
          ]
        }
      ],
      "execution_count": 21,
      "metadata": {
        "collapsed": false,
        "outputHidden": false,
        "inputHidden": false
      }
    },
    {
      "cell_type": "markdown",
      "source": [
        "## Define network parameters "
      ],
      "metadata": {}
    },
    {
      "cell_type": "code",
      "source": [
        "batch_size = 128\n",
        "num_classes = 10\n",
        "epochs = 2"
      ],
      "outputs": [],
      "execution_count": 22,
      "metadata": {
        "collapsed": false,
        "outputHidden": false,
        "inputHidden": false
      }
    },
    {
      "cell_type": "markdown",
      "source": [
        "## Encode our data \n",
        "\nUse the keras.utils to one-hot encode the label vector. Remember that we are simply recognizing handwritten, single digit numbers so we can tell keras.utils that we want an \\[n x 10] matrix with each row containing only one 1 value and the rest 0 values. "
      ],
      "metadata": {}
    },
    {
      "cell_type": "code",
      "source": [
        "# input image dimensions\n",
        "img_rows, img_cols = 28, 28\n",
        "\n",
        "# convert class vectors to binary class matrices\n",
        "y_train = keras.utils.to_categorical(y_train, num_classes)\n",
        "y_test = keras.utils.to_categorical(y_test, num_classes)\n"
      ],
      "outputs": [],
      "execution_count": 23,
      "metadata": {
        "collapsed": false,
        "outputHidden": false,
        "inputHidden": false
      }
    },
    {
      "cell_type": "markdown",
      "source": [
        "# Define the network \n",
        "\n",
        "--------\n",
        "\nWe're now ready to define the network with several convolutional, pooling, and dropout layers, ending with a dense, fully connected layer with a softmax activation function which will yeild our final classification. "
      ],
      "metadata": {}
    },
    {
      "cell_type": "code",
      "source": [
        "model = Sequential()\n",
        "model.add(Conv2D(32, kernel_size=(3, 3),\n",
        "                 activation='relu',\n",
        "                 input_shape=input_shape))\n",
        "model.add(Conv2D(64, (3, 3), activation='relu'))\n",
        "model.add(MaxPooling2D(pool_size=(2, 2)))\n",
        "model.add(Dropout(0.25))\n",
        "model.add(Flatten())\n",
        "model.add(Dense(128, activation='relu'))\n",
        "model.add(Dropout(0.5))\n",
        "model.add(Dense(num_classes, activation='softmax')) #<-- We have 10 classes to predict from "
      ],
      "outputs": [],
      "execution_count": 24,
      "metadata": {
        "collapsed": false,
        "outputHidden": false,
        "inputHidden": false
      }
    },
    {
      "cell_type": "markdown",
      "source": [
        "## Compile our model"
      ],
      "metadata": {}
    },
    {
      "cell_type": "code",
      "source": [
        "model.compile(loss=keras.losses.categorical_crossentropy,\n",
        "              optimizer=keras.optimizers.Adadelta(),\n",
        "              metrics=['accuracy'])\n"
      ],
      "outputs": [],
      "execution_count": 25,
      "metadata": {
        "collapsed": false,
        "outputHidden": false,
        "inputHidden": false
      }
    },
    {
      "cell_type": "markdown",
      "source": [
        "## Fit the model to the data"
      ],
      "metadata": {}
    },
    {
      "cell_type": "code",
      "source": [
        "history = model.fit(x_train, y_train,\n",
        "          batch_size=batch_size,\n",
        "          epochs=epochs,\n",
        "          verbose=1,\n",
        "          validation_data=(x_test, y_test))\n",
        "score = model.evaluate(x_test, y_test, verbose=0)\n",
        "print('Test loss:', score[0])\n",
        "print('Test accuracy:', score[1])"
      ],
      "outputs": [
        {
          "output_type": "stream",
          "name": "stdout",
          "text": [
            "Train on 60000 samples, validate on 10000 samples\n",
            "Epoch 1/2\n",
            "60000/60000 [==============================] - 106s 2ms/step - loss: 0.2636 - acc: 0.9187 - val_loss: 0.0639 - val_acc: 0.9797\b\b\b\b\b\b\b\b\b\b\b\b\b\b\b\b\b\b\b\b\b\b\b\b\b\b\b\b\b\b\b\b\b\b\b\b\b\b\b\b\b\b\b\b\n",
            "Epoch 2/2\n",
            "60000/60000 [==============================] - 94s 2ms/step - loss: 0.0879 - acc: 0.9737 - val_loss: 0.0411 - val_acc: 0.9855\b\b\b\b\b\b\b\b\b\b\b\b\b\b\b\b\b\b\b\b\b\b\b\b\b\b\b\b\b\b\b\b\b\b\b\b\b\b\b\b\b\b\b\b\b\n",
            "Test loss: 0.04114919487060979\n",
            "Test accuracy: 0.9855\n"
          ]
        }
      ],
      "execution_count": 26,
      "metadata": {
        "collapsed": false,
        "outputHidden": false,
        "inputHidden": false
      }
    },
    {
      "cell_type": "markdown",
      "source": [
        "# Model Evaluation\n",
        "\n--------"
      ],
      "metadata": {}
    },
    {
      "cell_type": "code",
      "source": [
        "#Plot Accuracy\n",
        "fig = plt.figure(figsize=(16, 7))\n",
        "ax1 = fig.add_subplot(121)\n",
        "\n",
        "plt.plot(history.history['acc'], color='darkorange', label = 'train')\n",
        "plt.plot(history.history['val_acc'], color='navy', label = 'test')\n",
        "plt.legend(loc='upper right');\n",
        "plt.xlabel('Epoch', fontsize = 18)\n",
        "plt.ylabel('Accuracy', fontsize = 18)\n",
        "plt.title('Model Accuracy', fontsize = 18)\n",
        "plt.grid()\n",
        "\n\n",
        "#Plot Loss\n",
        "#fig = plt.figure(figsize=(7, 7))\n",
        "ax1 = fig.add_subplot(122)\n",
        "\n",
        "plt.plot(history.history['loss'], color='darkorange', label = 'train')\n",
        "plt.plot(history.history['val_loss'], color='navy', label = 'test')\n",
        "plt.legend(loc='upper right');\n",
        "plt.xlabel('Epoch', fontsize = 18)\n",
        "plt.ylabel('Loss', fontsize = 18)\n",
        "plt.title('Model Loss', fontsize = 18)\n",
        "plt.grid()\n"
      ],
      "outputs": [
        {
          "output_type": "display_data",
          "data": {
            "text/plain": [
              "<Figure size 1152x504 with 2 Axes>"
            ],
            "image/png": "[encoded data removed]"
          },
          "metadata": {}
        }
      ],
      "execution_count": 55,
      "metadata": {
        "collapsed": false,
        "outputHidden": false,
        "inputHidden": false
      }
    },
    {
      "cell_type": "code",
      "source": [],
      "outputs": [],
      "execution_count": null,
      "metadata": {
        "collapsed": false,
        "outputHidden": false,
        "inputHidden": false
      }
    }
  ],
  "metadata": {
    "kernel_info": {
      "name": "python3"
    },
    "language_info": {
      "name": "python",
      "version": "3.6.5",
      "mimetype": "text/x-python",
      "codemirror_mode": {
        "name": "ipython",
        "version": 3
      },
      "pygments_lexer": "ipython3",
      "nbconvert_exporter": "python",
      "file_extension": ".py"
    },
    "kernelspec": {
      "name": "python3",
      "language": "python",
      "display_name": "Python 3"
    },
    "nteract": {
      "version": "0.12.3"
    }
  },
  "nbformat": 4,
  "nbformat_minor": 4
}